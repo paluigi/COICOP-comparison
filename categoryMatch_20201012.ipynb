{
 "cells": [
  {
   "cell_type": "markdown",
   "metadata": {
    "colab_type": "text",
    "id": "XTolY-pdhyHB"
   },
   "source": [
    "# COICOP Category Comparison"
   ]
  },
  {
   "cell_type": "code",
   "execution_count": 1,
   "metadata": {
    "colab": {
     "base_uri": "https://localhost:8080/",
     "height": 121
    },
    "colab_type": "code",
    "executionInfo": {
     "elapsed": 8573,
     "status": "ok",
     "timestamp": 1594720524615,
     "user": {
      "displayName": "Luigi Palumbo",
      "photoUrl": "https://lh3.googleusercontent.com/a-/AOh14GivvjjXSlHJW3oKbM0M0ADjYMeFo4zx0DtWQkFp=s64",
      "userId": "06333716926933829039"
     },
     "user_tz": -120
    },
    "id": "_g7qUkB2hyHG",
    "outputId": "ea2e6704-a862-4483-b72f-b25c339a39a2"
   },
   "outputs": [],
   "source": [
    "import pandas as pd\n",
    "import re\n",
    "import csv\n",
    "import matplotlib.pyplot as plt"
   ]
  },
  {
   "cell_type": "markdown",
   "metadata": {},
   "source": [
    "Import Spacy:"
   ]
  },
  {
   "cell_type": "code",
   "execution_count": 2,
   "metadata": {},
   "outputs": [],
   "source": [
    "import spacy"
   ]
  },
  {
   "cell_type": "markdown",
   "metadata": {},
   "source": [
    "To install the model:\n",
    "\n",
    "    python -m spacy download en_vectors_web_lg\n"
   ]
  },
  {
   "cell_type": "markdown",
   "metadata": {
    "colab_type": "text",
    "id": "3LCOdyYVhyHl"
   },
   "source": [
    "## Load COICOP Categories\n",
    "In the CSV there is already a selection of categories, removing the non-related ones"
   ]
  },
  {
   "cell_type": "code",
   "execution_count": 3,
   "metadata": {
    "colab": {},
    "colab_type": "code",
    "executionInfo": {
     "elapsed": 3029,
     "status": "ok",
     "timestamp": 1594720603948,
     "user": {
      "displayName": "Luigi Palumbo",
      "photoUrl": "https://lh3.googleusercontent.com/a-/AOh14GivvjjXSlHJW3oKbM0M0ADjYMeFo4zx0DtWQkFp=s64",
      "userId": "06333716926933829039"
     },
     "user_tz": -120
    },
    "id": "ONyMV9ZLhyHz"
   },
   "outputs": [],
   "source": [
    "coicop = pd.read_csv('coicop-select.csv')"
   ]
  },
  {
   "cell_type": "code",
   "execution_count": 4,
   "metadata": {
    "colab": {
     "base_uri": "https://localhost:8080/",
     "height": 363
    },
    "colab_type": "code",
    "executionInfo": {
     "elapsed": 1036,
     "status": "ok",
     "timestamp": 1594720612615,
     "user": {
      "displayName": "Luigi Palumbo",
      "photoUrl": "https://lh3.googleusercontent.com/a-/AOh14GivvjjXSlHJW3oKbM0M0ADjYMeFo4zx0DtWQkFp=s64",
      "userId": "06333716926933829039"
     },
     "user_tz": -120
    },
    "id": "nUmALLHDhyIK",
    "outputId": "c8524035-6949-4fc2-c170-d4e2619f659e"
   },
   "outputs": [
    {
     "data": {
      "text/html": [
       "<div>\n",
       "<style scoped>\n",
       "    .dataframe tbody tr th:only-of-type {\n",
       "        vertical-align: middle;\n",
       "    }\n",
       "\n",
       "    .dataframe tbody tr th {\n",
       "        vertical-align: top;\n",
       "    }\n",
       "\n",
       "    .dataframe thead th {\n",
       "        text-align: right;\n",
       "    }\n",
       "</style>\n",
       "<table border=\"1\" class=\"dataframe\">\n",
       "  <thead>\n",
       "    <tr style=\"text-align: right;\">\n",
       "      <th></th>\n",
       "      <th>Level</th>\n",
       "      <th>Code</th>\n",
       "      <th>Description</th>\n",
       "    </tr>\n",
       "  </thead>\n",
       "  <tbody>\n",
       "    <tr>\n",
       "      <th>0</th>\n",
       "      <td>1</td>\n",
       "      <td>CP01</td>\n",
       "      <td>Food and non-alcoholic beverages</td>\n",
       "    </tr>\n",
       "    <tr>\n",
       "      <th>1</th>\n",
       "      <td>2</td>\n",
       "      <td>CP011</td>\n",
       "      <td>Food</td>\n",
       "    </tr>\n",
       "    <tr>\n",
       "      <th>2</th>\n",
       "      <td>3</td>\n",
       "      <td>CP0111</td>\n",
       "      <td>Bread and cereals</td>\n",
       "    </tr>\n",
       "    <tr>\n",
       "      <th>3</th>\n",
       "      <td>4</td>\n",
       "      <td>CP01111</td>\n",
       "      <td>Rice</td>\n",
       "    </tr>\n",
       "    <tr>\n",
       "      <th>4</th>\n",
       "      <td>5</td>\n",
       "      <td>CP01111A</td>\n",
       "      <td>Long-grain rice (1 kg)</td>\n",
       "    </tr>\n",
       "  </tbody>\n",
       "</table>\n",
       "</div>"
      ],
      "text/plain": [
       "   Level      Code                       Description\n",
       "0      1      CP01  Food and non-alcoholic beverages\n",
       "1      2     CP011                              Food\n",
       "2      3    CP0111                 Bread and cereals\n",
       "3      4   CP01111                              Rice\n",
       "4      5  CP01111A            Long-grain rice (1 kg)"
      ]
     },
     "execution_count": 4,
     "metadata": {},
     "output_type": "execute_result"
    }
   ],
   "source": [
    "coicop.head(5)"
   ]
  },
  {
   "cell_type": "markdown",
   "metadata": {
    "colab_type": "text",
    "id": "4V7SizzMxALx"
   },
   "source": [
    "Select only Level 4 and Level 5 classifications"
   ]
  },
  {
   "cell_type": "code",
   "execution_count": 5,
   "metadata": {
    "colab": {},
    "colab_type": "code",
    "executionInfo": {
     "elapsed": 926,
     "status": "ok",
     "timestamp": 1594723708840,
     "user": {
      "displayName": "Luigi Palumbo",
      "photoUrl": "https://lh3.googleusercontent.com/a-/AOh14GivvjjXSlHJW3oKbM0M0ADjYMeFo4zx0DtWQkFp=s64",
      "userId": "06333716926933829039"
     },
     "user_tz": -120
    },
    "id": "Dig_OTB3w_pb"
   },
   "outputs": [],
   "source": [
    "coicop45 = coicop.loc[(coicop[\"Level\"] == 5) | (coicop[\"Level\"] == 4)]"
   ]
  },
  {
   "cell_type": "code",
   "execution_count": 6,
   "metadata": {},
   "outputs": [],
   "source": [
    "coicop4 = coicop.loc[(coicop[\"Level\"] == 4)]"
   ]
  },
  {
   "cell_type": "code",
   "execution_count": 7,
   "metadata": {},
   "outputs": [
    {
     "data": {
      "text/plain": [
       "132"
      ]
     },
     "execution_count": 7,
     "metadata": {},
     "output_type": "execute_result"
    }
   ],
   "source": [
    "len(coicop4)"
   ]
  },
  {
   "cell_type": "code",
   "execution_count": 8,
   "metadata": {},
   "outputs": [
    {
     "data": {
      "text/plain": [
       "256"
      ]
     },
     "execution_count": 8,
     "metadata": {},
     "output_type": "execute_result"
    }
   ],
   "source": [
    "len(coicop45)"
   ]
  },
  {
   "cell_type": "code",
   "execution_count": 9,
   "metadata": {
    "colab": {
     "base_uri": "https://localhost:8080/",
     "height": 363
    },
    "colab_type": "code",
    "executionInfo": {
     "elapsed": 888,
     "status": "ok",
     "timestamp": 1594723733707,
     "user": {
      "displayName": "Luigi Palumbo",
      "photoUrl": "https://lh3.googleusercontent.com/a-/AOh14GivvjjXSlHJW3oKbM0M0ADjYMeFo4zx0DtWQkFp=s64",
      "userId": "06333716926933829039"
     },
     "user_tz": -120
    },
    "id": "mohzaIeU77Qz",
    "outputId": "8ebcec2c-979b-45ff-99a5-7755b14e1550"
   },
   "outputs": [
    {
     "data": {
      "text/html": [
       "<div>\n",
       "<style scoped>\n",
       "    .dataframe tbody tr th:only-of-type {\n",
       "        vertical-align: middle;\n",
       "    }\n",
       "\n",
       "    .dataframe tbody tr th {\n",
       "        vertical-align: top;\n",
       "    }\n",
       "\n",
       "    .dataframe thead th {\n",
       "        text-align: right;\n",
       "    }\n",
       "</style>\n",
       "<table border=\"1\" class=\"dataframe\">\n",
       "  <thead>\n",
       "    <tr style=\"text-align: right;\">\n",
       "      <th></th>\n",
       "      <th>Level</th>\n",
       "      <th>Code</th>\n",
       "      <th>Description</th>\n",
       "    </tr>\n",
       "  </thead>\n",
       "  <tbody>\n",
       "    <tr>\n",
       "      <th>3</th>\n",
       "      <td>4</td>\n",
       "      <td>CP01111</td>\n",
       "      <td>Rice</td>\n",
       "    </tr>\n",
       "    <tr>\n",
       "      <th>4</th>\n",
       "      <td>5</td>\n",
       "      <td>CP01111A</td>\n",
       "      <td>Long-grain rice (1 kg)</td>\n",
       "    </tr>\n",
       "    <tr>\n",
       "      <th>5</th>\n",
       "      <td>4</td>\n",
       "      <td>CP01112</td>\n",
       "      <td>Flours and other cereals</td>\n",
       "    </tr>\n",
       "    <tr>\n",
       "      <th>6</th>\n",
       "      <td>5</td>\n",
       "      <td>CP01112A</td>\n",
       "      <td>Wheat flour (1 kg)</td>\n",
       "    </tr>\n",
       "    <tr>\n",
       "      <th>7</th>\n",
       "      <td>5</td>\n",
       "      <td>CP01112B</td>\n",
       "      <td>Cornflakes (1 kg)</td>\n",
       "    </tr>\n",
       "  </tbody>\n",
       "</table>\n",
       "</div>"
      ],
      "text/plain": [
       "   Level      Code               Description\n",
       "3      4   CP01111                      Rice\n",
       "4      5  CP01111A    Long-grain rice (1 kg)\n",
       "5      4   CP01112  Flours and other cereals\n",
       "6      5  CP01112A        Wheat flour (1 kg)\n",
       "7      5  CP01112B         Cornflakes (1 kg)"
      ]
     },
     "execution_count": 9,
     "metadata": {},
     "output_type": "execute_result"
    }
   ],
   "source": [
    "coicop45.head(5)"
   ]
  },
  {
   "cell_type": "code",
   "execution_count": 10,
   "metadata": {},
   "outputs": [
    {
     "data": {
      "text/html": [
       "<div>\n",
       "<style scoped>\n",
       "    .dataframe tbody tr th:only-of-type {\n",
       "        vertical-align: middle;\n",
       "    }\n",
       "\n",
       "    .dataframe tbody tr th {\n",
       "        vertical-align: top;\n",
       "    }\n",
       "\n",
       "    .dataframe thead th {\n",
       "        text-align: right;\n",
       "    }\n",
       "</style>\n",
       "<table border=\"1\" class=\"dataframe\">\n",
       "  <thead>\n",
       "    <tr style=\"text-align: right;\">\n",
       "      <th></th>\n",
       "      <th>Level</th>\n",
       "      <th>Code</th>\n",
       "      <th>Description</th>\n",
       "    </tr>\n",
       "  </thead>\n",
       "  <tbody>\n",
       "    <tr>\n",
       "      <th>3</th>\n",
       "      <td>4</td>\n",
       "      <td>CP01111</td>\n",
       "      <td>Rice</td>\n",
       "    </tr>\n",
       "    <tr>\n",
       "      <th>5</th>\n",
       "      <td>4</td>\n",
       "      <td>CP01112</td>\n",
       "      <td>Flours and other cereals</td>\n",
       "    </tr>\n",
       "    <tr>\n",
       "      <th>8</th>\n",
       "      <td>4</td>\n",
       "      <td>CP01113</td>\n",
       "      <td>Bread</td>\n",
       "    </tr>\n",
       "    <tr>\n",
       "      <th>10</th>\n",
       "      <td>4</td>\n",
       "      <td>CP01114</td>\n",
       "      <td>Other bakery products</td>\n",
       "    </tr>\n",
       "    <tr>\n",
       "      <th>11</th>\n",
       "      <td>4</td>\n",
       "      <td>CP01115</td>\n",
       "      <td>Pizza and quiche</td>\n",
       "    </tr>\n",
       "  </tbody>\n",
       "</table>\n",
       "</div>"
      ],
      "text/plain": [
       "    Level     Code               Description\n",
       "3       4  CP01111                      Rice\n",
       "5       4  CP01112  Flours and other cereals\n",
       "8       4  CP01113                     Bread\n",
       "10      4  CP01114     Other bakery products\n",
       "11      4  CP01115          Pizza and quiche"
      ]
     },
     "execution_count": 10,
     "metadata": {},
     "output_type": "execute_result"
    }
   ],
   "source": [
    "coicop4.head(5)"
   ]
  },
  {
   "cell_type": "markdown",
   "metadata": {
    "colab_type": "text",
    "id": "_hHdfK3ChyId"
   },
   "source": [
    "## Load Data Sample"
   ]
  },
  {
   "cell_type": "code",
   "execution_count": 11,
   "metadata": {
    "colab": {},
    "colab_type": "code",
    "executionInfo": {
     "elapsed": 2352,
     "status": "ok",
     "timestamp": 1594724138063,
     "user": {
      "displayName": "Luigi Palumbo",
      "photoUrl": "https://lh3.googleusercontent.com/a-/AOh14GivvjjXSlHJW3oKbM0M0ADjYMeFo4zx0DtWQkFp=s64",
      "userId": "06333716926933829039"
     },
     "user_tz": -120
    },
    "id": "xTxCPH2lhyIi"
   },
   "outputs": [],
   "source": [
    "df1 = pd.read_csv('csv/output-0000.csv', \n",
    "                 names=['product','price','unit','category','city','store','date'])"
   ]
  },
  {
   "cell_type": "code",
   "execution_count": 12,
   "metadata": {},
   "outputs": [],
   "source": [
    "df2 = pd.read_csv('csv/output-0001.csv', \n",
    "                 names=['product','price','unit','category','city','store','date'])"
   ]
  },
  {
   "cell_type": "code",
   "execution_count": 13,
   "metadata": {},
   "outputs": [],
   "source": [
    "df3 = pd.read_csv('csv/output-0002.csv', \n",
    "                 names=['product','price','unit','category','city','store','date'])"
   ]
  },
  {
   "cell_type": "code",
   "execution_count": 14,
   "metadata": {},
   "outputs": [],
   "source": [
    "df4 = pd.read_csv('csv/output-0003.csv', \n",
    "                 names=['product','price','unit','category','city','store','date'])"
   ]
  },
  {
   "cell_type": "code",
   "execution_count": 15,
   "metadata": {},
   "outputs": [],
   "source": [
    "df5 = pd.read_csv('csv/output-0004.csv', \n",
    "                 names=['product','price','unit','category','city','store','date'])"
   ]
  },
  {
   "cell_type": "code",
   "execution_count": 16,
   "metadata": {},
   "outputs": [],
   "source": [
    "df6 = pd.read_csv('csv/output-0005.csv', \n",
    "                 names=['product','price','unit','category','city','store','date'])"
   ]
  },
  {
   "cell_type": "code",
   "execution_count": 17,
   "metadata": {},
   "outputs": [],
   "source": [
    "df7 = pd.read_csv('csv/output-0006.csv', \n",
    "                 names=['product','price','unit','category','city','store','date'])"
   ]
  },
  {
   "cell_type": "code",
   "execution_count": 18,
   "metadata": {},
   "outputs": [],
   "source": [
    "df8 = pd.read_csv('csv/output-0007.csv', \n",
    "                 names=['product','price','unit','category','city','store','date'])"
   ]
  },
  {
   "cell_type": "code",
   "execution_count": 19,
   "metadata": {},
   "outputs": [],
   "source": [
    "df9 = pd.read_csv('csv/output-0008.csv', \n",
    "                 names=['product','price','unit','category','city','store','date'])"
   ]
  },
  {
   "cell_type": "code",
   "execution_count": 20,
   "metadata": {},
   "outputs": [],
   "source": [
    "df10 = pd.read_csv('csv/output-0009.csv', \n",
    "                 names=['product','price','unit','category','city','store','date'])"
   ]
  },
  {
   "cell_type": "code",
   "execution_count": 21,
   "metadata": {},
   "outputs": [],
   "source": [
    "df11 = pd.read_csv('csv/output-0010.csv',\n",
    "                   names=['product','price','unit','category','city','store','date'])"
   ]
  },
  {
   "cell_type": "code",
   "execution_count": 22,
   "metadata": {},
   "outputs": [],
   "source": [
    "df12 = pd.read_csv('csv/output-0011.csv',\n",
    "                   names=['product','price','unit','category','city','store','date'])"
   ]
  },
  {
   "cell_type": "code",
   "execution_count": 23,
   "metadata": {},
   "outputs": [],
   "source": [
    "df13 = pd.read_csv('csv/output-0012.csv',\n",
    "                   names=['product','price','unit','category','city','store','date'])"
   ]
  },
  {
   "cell_type": "code",
   "execution_count": 24,
   "metadata": {},
   "outputs": [],
   "source": [
    "df14 = pd.read_csv('csv/output-0013.csv',\n",
    "                   names=['product','price','unit','category','city','store','date'])"
   ]
  },
  {
   "cell_type": "code",
   "execution_count": 25,
   "metadata": {},
   "outputs": [],
   "source": [
    "df15 = pd.read_csv('csv/output-0014.csv',\n",
    "                   names=['product','price','unit','category','city','store','date'])"
   ]
  },
  {
   "cell_type": "code",
   "execution_count": 26,
   "metadata": {},
   "outputs": [],
   "source": [
    "df16 = pd.read_csv('csv/output-0015.csv',\n",
    "                   names=['product','price','unit','category','city','store','date'])"
   ]
  },
  {
   "cell_type": "code",
   "execution_count": 27,
   "metadata": {},
   "outputs": [],
   "source": [
    "df17 = pd.read_csv('csv/output-0016.csv',\n",
    "                   names=['product','price','unit','category','city','store','date'])"
   ]
  },
  {
   "cell_type": "code",
   "execution_count": 28,
   "metadata": {},
   "outputs": [],
   "source": [
    "df18 = pd.read_csv('csv/output-0017.csv',\n",
    "                   names=['product','price','unit','category','city','store','date'])"
   ]
  },
  {
   "cell_type": "code",
   "execution_count": 29,
   "metadata": {},
   "outputs": [],
   "source": [
    "df19 = pd.read_csv('csv/output-0018.csv',\n",
    "                   names=['product','price','unit','category','city','store','date'])"
   ]
  },
  {
   "cell_type": "code",
   "execution_count": 30,
   "metadata": {},
   "outputs": [],
   "source": [
    "temp = [df1, df2, df3, df4, df5, df6, df7, df8, df9, df10, df11, df12, df13, df14, df15, df16, df17, df18, df19]"
   ]
  },
  {
   "cell_type": "code",
   "execution_count": 31,
   "metadata": {},
   "outputs": [],
   "source": [
    "df = pd.concat(temp)"
   ]
  },
  {
   "cell_type": "code",
   "execution_count": 32,
   "metadata": {
    "colab": {
     "base_uri": "https://localhost:8080/",
     "height": 206
    },
    "colab_type": "code",
    "executionInfo": {
     "elapsed": 1409,
     "status": "ok",
     "timestamp": 1594724142748,
     "user": {
      "displayName": "Luigi Palumbo",
      "photoUrl": "https://lh3.googleusercontent.com/a-/AOh14GivvjjXSlHJW3oKbM0M0ADjYMeFo4zx0DtWQkFp=s64",
      "userId": "06333716926933829039"
     },
     "user_tz": -120
    },
    "id": "xyl3R49IhyI3",
    "outputId": "498ab2e6-1f98-40f5-cc09-1babd8ac0e2d"
   },
   "outputs": [
    {
     "data": {
      "text/html": [
       "<div>\n",
       "<style scoped>\n",
       "    .dataframe tbody tr th:only-of-type {\n",
       "        vertical-align: middle;\n",
       "    }\n",
       "\n",
       "    .dataframe tbody tr th {\n",
       "        vertical-align: top;\n",
       "    }\n",
       "\n",
       "    .dataframe thead th {\n",
       "        text-align: right;\n",
       "    }\n",
       "</style>\n",
       "<table border=\"1\" class=\"dataframe\">\n",
       "  <thead>\n",
       "    <tr style=\"text-align: right;\">\n",
       "      <th></th>\n",
       "      <th>product</th>\n",
       "      <th>price</th>\n",
       "      <th>unit</th>\n",
       "      <th>category</th>\n",
       "      <th>city</th>\n",
       "      <th>store</th>\n",
       "      <th>date</th>\n",
       "    </tr>\n",
       "  </thead>\n",
       "  <tbody>\n",
       "    <tr>\n",
       "      <th>0</th>\n",
       "      <td>Debi Lilly Hydrangea 3 Stem - colors may varyrrn</td>\n",
       "      <td>$8.99</td>\n",
       "      <td>($8.99/each)</td>\n",
       "      <td>Flowers</td>\n",
       "      <td>LA</td>\n",
       "      <td>Vons</td>\n",
       "      <td>2017-01-10 02:00:24</td>\n",
       "    </tr>\n",
       "    <tr>\n",
       "      <th>1</th>\n",
       "      <td>California Grown Deluxe Bouquet - colors may vary</td>\n",
       "      <td>$14.59</td>\n",
       "      <td>($14.59/each)</td>\n",
       "      <td>Flowers</td>\n",
       "      <td>LA</td>\n",
       "      <td>Vons</td>\n",
       "      <td>2017-01-10 02:00:24</td>\n",
       "    </tr>\n",
       "    <tr>\n",
       "      <th>2</th>\n",
       "      <td>Alstroemeria 9 Stem - colors may vary</td>\n",
       "      <td>$6.79</td>\n",
       "      <td>($6.79/each)</td>\n",
       "      <td>Flowers</td>\n",
       "      <td>LA</td>\n",
       "      <td>Vons</td>\n",
       "      <td>2017-01-10 02:00:24</td>\n",
       "    </tr>\n",
       "    <tr>\n",
       "      <th>3</th>\n",
       "      <td>1.50 LB Cinnamon Sugar Tortilla Chips</td>\n",
       "      <td>$5.99</td>\n",
       "      <td>($3.99/lb)</td>\n",
       "      <td>Flowers</td>\n",
       "      <td>LA</td>\n",
       "      <td>Vons</td>\n",
       "      <td>2017-01-10 02:00:24</td>\n",
       "    </tr>\n",
       "    <tr>\n",
       "      <th>4</th>\n",
       "      <td>Lily Stargazer 3 Stem - colors may vary</td>\n",
       "      <td>$8.99</td>\n",
       "      <td>($8.99/each)</td>\n",
       "      <td>Flowers</td>\n",
       "      <td>LA</td>\n",
       "      <td>Vons</td>\n",
       "      <td>2017-01-10 02:00:24</td>\n",
       "    </tr>\n",
       "  </tbody>\n",
       "</table>\n",
       "</div>"
      ],
      "text/plain": [
       "                                             product   price           unit  \\\n",
       "0   Debi Lilly Hydrangea 3 Stem - colors may varyrrn   $8.99   ($8.99/each)   \n",
       "1  California Grown Deluxe Bouquet - colors may vary  $14.59  ($14.59/each)   \n",
       "2              Alstroemeria 9 Stem - colors may vary   $6.79   ($6.79/each)   \n",
       "3              1.50 LB Cinnamon Sugar Tortilla Chips   $5.99     ($3.99/lb)   \n",
       "4            Lily Stargazer 3 Stem - colors may vary   $8.99   ($8.99/each)   \n",
       "\n",
       "  category city store                 date  \n",
       "0  Flowers   LA  Vons  2017-01-10 02:00:24  \n",
       "1  Flowers   LA  Vons  2017-01-10 02:00:24  \n",
       "2  Flowers   LA  Vons  2017-01-10 02:00:24  \n",
       "3  Flowers   LA  Vons  2017-01-10 02:00:24  \n",
       "4  Flowers   LA  Vons  2017-01-10 02:00:24  "
      ]
     },
     "execution_count": 32,
     "metadata": {},
     "output_type": "execute_result"
    }
   ],
   "source": [
    "df.head()"
   ]
  },
  {
   "cell_type": "markdown",
   "metadata": {},
   "source": [
    "## Data organization"
   ]
  },
  {
   "cell_type": "markdown",
   "metadata": {},
   "source": [
    "Break the name in two columns to separate SKU size/counting. Starting from the right to avoid \" - \" in the product name."
   ]
  },
  {
   "cell_type": "code",
   "execution_count": 33,
   "metadata": {},
   "outputs": [],
   "source": [
    "new = df[\"product\"].str.rsplit(\" - \", n = 1, expand = True)"
   ]
  },
  {
   "cell_type": "code",
   "execution_count": 34,
   "metadata": {},
   "outputs": [],
   "source": [
    "df[\"item\"] = new[0]"
   ]
  },
  {
   "cell_type": "code",
   "execution_count": 35,
   "metadata": {},
   "outputs": [],
   "source": [
    "df[\"size\"] = new[1]"
   ]
  },
  {
   "cell_type": "code",
   "execution_count": 36,
   "metadata": {},
   "outputs": [],
   "source": [
    "df.drop(columns =[\"product\"], inplace = True) "
   ]
  },
  {
   "cell_type": "code",
   "execution_count": 37,
   "metadata": {},
   "outputs": [
    {
     "data": {
      "text/html": [
       "<div>\n",
       "<style scoped>\n",
       "    .dataframe tbody tr th:only-of-type {\n",
       "        vertical-align: middle;\n",
       "    }\n",
       "\n",
       "    .dataframe tbody tr th {\n",
       "        vertical-align: top;\n",
       "    }\n",
       "\n",
       "    .dataframe thead th {\n",
       "        text-align: right;\n",
       "    }\n",
       "</style>\n",
       "<table border=\"1\" class=\"dataframe\">\n",
       "  <thead>\n",
       "    <tr style=\"text-align: right;\">\n",
       "      <th></th>\n",
       "      <th>price</th>\n",
       "      <th>unit</th>\n",
       "      <th>category</th>\n",
       "      <th>city</th>\n",
       "      <th>store</th>\n",
       "      <th>date</th>\n",
       "      <th>item</th>\n",
       "      <th>size</th>\n",
       "    </tr>\n",
       "  </thead>\n",
       "  <tbody>\n",
       "    <tr>\n",
       "      <th>0</th>\n",
       "      <td>$8.99</td>\n",
       "      <td>($8.99/each)</td>\n",
       "      <td>Flowers</td>\n",
       "      <td>LA</td>\n",
       "      <td>Vons</td>\n",
       "      <td>2017-01-10 02:00:24</td>\n",
       "      <td>Debi Lilly Hydrangea 3 Stem</td>\n",
       "      <td>colors may varyrrn</td>\n",
       "    </tr>\n",
       "    <tr>\n",
       "      <th>1</th>\n",
       "      <td>$14.59</td>\n",
       "      <td>($14.59/each)</td>\n",
       "      <td>Flowers</td>\n",
       "      <td>LA</td>\n",
       "      <td>Vons</td>\n",
       "      <td>2017-01-10 02:00:24</td>\n",
       "      <td>California Grown Deluxe Bouquet</td>\n",
       "      <td>colors may vary</td>\n",
       "    </tr>\n",
       "    <tr>\n",
       "      <th>2</th>\n",
       "      <td>$6.79</td>\n",
       "      <td>($6.79/each)</td>\n",
       "      <td>Flowers</td>\n",
       "      <td>LA</td>\n",
       "      <td>Vons</td>\n",
       "      <td>2017-01-10 02:00:24</td>\n",
       "      <td>Alstroemeria 9 Stem</td>\n",
       "      <td>colors may vary</td>\n",
       "    </tr>\n",
       "    <tr>\n",
       "      <th>3</th>\n",
       "      <td>$5.99</td>\n",
       "      <td>($3.99/lb)</td>\n",
       "      <td>Flowers</td>\n",
       "      <td>LA</td>\n",
       "      <td>Vons</td>\n",
       "      <td>2017-01-10 02:00:24</td>\n",
       "      <td>1.50 LB Cinnamon Sugar Tortilla Chips</td>\n",
       "      <td>None</td>\n",
       "    </tr>\n",
       "    <tr>\n",
       "      <th>4</th>\n",
       "      <td>$8.99</td>\n",
       "      <td>($8.99/each)</td>\n",
       "      <td>Flowers</td>\n",
       "      <td>LA</td>\n",
       "      <td>Vons</td>\n",
       "      <td>2017-01-10 02:00:24</td>\n",
       "      <td>Lily Stargazer 3 Stem</td>\n",
       "      <td>colors may vary</td>\n",
       "    </tr>\n",
       "  </tbody>\n",
       "</table>\n",
       "</div>"
      ],
      "text/plain": [
       "    price           unit category city store                 date  \\\n",
       "0   $8.99   ($8.99/each)  Flowers   LA  Vons  2017-01-10 02:00:24   \n",
       "1  $14.59  ($14.59/each)  Flowers   LA  Vons  2017-01-10 02:00:24   \n",
       "2   $6.79   ($6.79/each)  Flowers   LA  Vons  2017-01-10 02:00:24   \n",
       "3   $5.99     ($3.99/lb)  Flowers   LA  Vons  2017-01-10 02:00:24   \n",
       "4   $8.99   ($8.99/each)  Flowers   LA  Vons  2017-01-10 02:00:24   \n",
       "\n",
       "                                    item                size  \n",
       "0            Debi Lilly Hydrangea 3 Stem  colors may varyrrn  \n",
       "1        California Grown Deluxe Bouquet     colors may vary  \n",
       "2                    Alstroemeria 9 Stem     colors may vary  \n",
       "3  1.50 LB Cinnamon Sugar Tortilla Chips                None  \n",
       "4                  Lily Stargazer 3 Stem     colors may vary  "
      ]
     },
     "execution_count": 37,
     "metadata": {},
     "output_type": "execute_result"
    }
   ],
   "source": [
    "df.head()"
   ]
  },
  {
   "cell_type": "markdown",
   "metadata": {},
   "source": [
    "Rearrange the date to keep only the day"
   ]
  },
  {
   "cell_type": "code",
   "execution_count": 38,
   "metadata": {},
   "outputs": [
    {
     "data": {
      "text/html": [
       "<div>\n",
       "<style scoped>\n",
       "    .dataframe tbody tr th:only-of-type {\n",
       "        vertical-align: middle;\n",
       "    }\n",
       "\n",
       "    .dataframe tbody tr th {\n",
       "        vertical-align: top;\n",
       "    }\n",
       "\n",
       "    .dataframe thead th {\n",
       "        text-align: right;\n",
       "    }\n",
       "</style>\n",
       "<table border=\"1\" class=\"dataframe\">\n",
       "  <thead>\n",
       "    <tr style=\"text-align: right;\">\n",
       "      <th></th>\n",
       "      <th>price</th>\n",
       "      <th>unit</th>\n",
       "      <th>category</th>\n",
       "      <th>city</th>\n",
       "      <th>store</th>\n",
       "      <th>date</th>\n",
       "      <th>item</th>\n",
       "      <th>size</th>\n",
       "    </tr>\n",
       "  </thead>\n",
       "  <tbody>\n",
       "    <tr>\n",
       "      <th>0</th>\n",
       "      <td>$8.99</td>\n",
       "      <td>($8.99/each)</td>\n",
       "      <td>Flowers</td>\n",
       "      <td>LA</td>\n",
       "      <td>Vons</td>\n",
       "      <td>2017-01-10</td>\n",
       "      <td>Debi Lilly Hydrangea 3 Stem</td>\n",
       "      <td>colors may varyrrn</td>\n",
       "    </tr>\n",
       "    <tr>\n",
       "      <th>1</th>\n",
       "      <td>$14.59</td>\n",
       "      <td>($14.59/each)</td>\n",
       "      <td>Flowers</td>\n",
       "      <td>LA</td>\n",
       "      <td>Vons</td>\n",
       "      <td>2017-01-10</td>\n",
       "      <td>California Grown Deluxe Bouquet</td>\n",
       "      <td>colors may vary</td>\n",
       "    </tr>\n",
       "    <tr>\n",
       "      <th>2</th>\n",
       "      <td>$6.79</td>\n",
       "      <td>($6.79/each)</td>\n",
       "      <td>Flowers</td>\n",
       "      <td>LA</td>\n",
       "      <td>Vons</td>\n",
       "      <td>2017-01-10</td>\n",
       "      <td>Alstroemeria 9 Stem</td>\n",
       "      <td>colors may vary</td>\n",
       "    </tr>\n",
       "    <tr>\n",
       "      <th>3</th>\n",
       "      <td>$5.99</td>\n",
       "      <td>($3.99/lb)</td>\n",
       "      <td>Flowers</td>\n",
       "      <td>LA</td>\n",
       "      <td>Vons</td>\n",
       "      <td>2017-01-10</td>\n",
       "      <td>1.50 LB Cinnamon Sugar Tortilla Chips</td>\n",
       "      <td>None</td>\n",
       "    </tr>\n",
       "    <tr>\n",
       "      <th>4</th>\n",
       "      <td>$8.99</td>\n",
       "      <td>($8.99/each)</td>\n",
       "      <td>Flowers</td>\n",
       "      <td>LA</td>\n",
       "      <td>Vons</td>\n",
       "      <td>2017-01-10</td>\n",
       "      <td>Lily Stargazer 3 Stem</td>\n",
       "      <td>colors may vary</td>\n",
       "    </tr>\n",
       "  </tbody>\n",
       "</table>\n",
       "</div>"
      ],
      "text/plain": [
       "    price           unit category city store        date  \\\n",
       "0   $8.99   ($8.99/each)  Flowers   LA  Vons  2017-01-10   \n",
       "1  $14.59  ($14.59/each)  Flowers   LA  Vons  2017-01-10   \n",
       "2   $6.79   ($6.79/each)  Flowers   LA  Vons  2017-01-10   \n",
       "3   $5.99     ($3.99/lb)  Flowers   LA  Vons  2017-01-10   \n",
       "4   $8.99   ($8.99/each)  Flowers   LA  Vons  2017-01-10   \n",
       "\n",
       "                                    item                size  \n",
       "0            Debi Lilly Hydrangea 3 Stem  colors may varyrrn  \n",
       "1        California Grown Deluxe Bouquet     colors may vary  \n",
       "2                    Alstroemeria 9 Stem     colors may vary  \n",
       "3  1.50 LB Cinnamon Sugar Tortilla Chips                None  \n",
       "4                  Lily Stargazer 3 Stem     colors may vary  "
      ]
     },
     "execution_count": 38,
     "metadata": {},
     "output_type": "execute_result"
    }
   ],
   "source": [
    "df[\"date\"] = pd.to_datetime(df[\"date\"]).dt.date\n",
    "df.head()"
   ]
  },
  {
   "cell_type": "code",
   "execution_count": 39,
   "metadata": {},
   "outputs": [
    {
     "data": {
      "text/plain": [
       "price            0\n",
       "unit        140154\n",
       "category         0\n",
       "city             0\n",
       "store            0\n",
       "date             0\n",
       "item             0\n",
       "size        384460\n",
       "dtype: int64"
      ]
     },
     "execution_count": 39,
     "metadata": {},
     "output_type": "execute_result"
    }
   ],
   "source": [
    "df.isna().sum()"
   ]
  },
  {
   "cell_type": "markdown",
   "metadata": {},
   "source": [
    "Details about the data:"
   ]
  },
  {
   "cell_type": "code",
   "execution_count": 40,
   "metadata": {},
   "outputs": [
    {
     "name": "stdout",
     "output_type": "stream",
     "text": [
      "Cities: ['LA' 'Seattle' 'Portland' 'Honolulu' 'SF' 'DC' 'Orlando' 'Phoenix'\n",
      " 'Austin' 'LV' 'Houston' 'Boise'] - Number of different cities: 12\n"
     ]
    }
   ],
   "source": [
    "print(\"Cities: \" + str(df[\"city\"].unique()) + \" - Number of different cities: \" + str(len(df[\"city\"].unique())))"
   ]
  },
  {
   "cell_type": "code",
   "execution_count": 41,
   "metadata": {},
   "outputs": [
    {
     "name": "stdout",
     "output_type": "stream",
     "text": [
      "Stores: ['Vons' 'Safeway' 'HEB' 'Randalls' 'Albertsons'] - Number of different stores: 5\n"
     ]
    }
   ],
   "source": [
    "print(\"Stores: \" + str(df[\"store\"].unique()) + \" - Number of different stores: \" + str(len(df[\"store\"].unique())))"
   ]
  },
  {
   "cell_type": "code",
   "execution_count": 42,
   "metadata": {},
   "outputs": [
    {
     "name": "stdout",
     "output_type": "stream",
     "text": [
      "Dates: [datetime.date(2017, 1, 10) datetime.date(2017, 1, 11)\n",
      " datetime.date(2017, 1, 12)] - Number of different dates: 3\n"
     ]
    }
   ],
   "source": [
    "print(\"Dates: \" + str(df[\"date\"].unique()) + \" - Number of different dates: \" + str(len(df[\"date\"].unique())))"
   ]
  },
  {
   "cell_type": "code",
   "execution_count": 43,
   "metadata": {},
   "outputs": [
    {
     "data": {
      "text/plain": [
       "(1035535, 8)"
      ]
     },
     "execution_count": 43,
     "metadata": {},
     "output_type": "execute_result"
    }
   ],
   "source": [
    "df.shape"
   ]
  },
  {
   "cell_type": "markdown",
   "metadata": {},
   "source": [
    "## Create the list of product categories, product names, and COICOP categories for matching"
   ]
  },
  {
   "cell_type": "code",
   "execution_count": 44,
   "metadata": {},
   "outputs": [],
   "source": [
    "products = list(df.item.unique())\n",
    "categories = list(df.category.unique())\n",
    "coicop_categories = list(coicop45.Description.unique())"
   ]
  },
  {
   "cell_type": "markdown",
   "metadata": {},
   "source": [
    "Clean categories text:\n",
    "- remove hypens (-) from categories\n",
    "- remove text between parenthesis in Coicop Categories"
   ]
  },
  {
   "cell_type": "code",
   "execution_count": 45,
   "metadata": {},
   "outputs": [],
   "source": [
    "categories = [re.sub(r'-', ' ', cat) for cat in categories]"
   ]
  },
  {
   "cell_type": "code",
   "execution_count": 46,
   "metadata": {},
   "outputs": [
    {
     "data": {
      "text/plain": [
       "['Flowers',\n",
       " 'Toddler Foods',\n",
       " 'Whiskey',\n",
       " 'Cigarettes',\n",
       " 'Other Animal Care',\n",
       " 'Zinc',\n",
       " 'Trash Bags  Outside',\n",
       " 'Hot Dogs Franks',\n",
       " 'Southern Foods',\n",
       " 'Rice']"
      ]
     },
     "execution_count": 46,
     "metadata": {},
     "output_type": "execute_result"
    }
   ],
   "source": [
    "categories[0:10]"
   ]
  },
  {
   "cell_type": "code",
   "execution_count": 47,
   "metadata": {},
   "outputs": [],
   "source": [
    "coicop_categories = [re.sub(r'\\([^)]*\\)', '', cat) for cat in coicop_categories]"
   ]
  },
  {
   "cell_type": "code",
   "execution_count": 48,
   "metadata": {},
   "outputs": [
    {
     "data": {
      "text/plain": [
       "['Rice',\n",
       " 'Long-grain rice ',\n",
       " 'Flours and other cereals',\n",
       " 'Wheat flour ',\n",
       " 'Cornflakes ',\n",
       " 'Bread',\n",
       " 'White bread, loaf ',\n",
       " 'Other bakery products',\n",
       " 'Pizza and quiche',\n",
       " 'Pizza, frozen ']"
      ]
     },
     "execution_count": 48,
     "metadata": {},
     "output_type": "execute_result"
    }
   ],
   "source": [
    "coicop_categories[0:10]"
   ]
  },
  {
   "cell_type": "code",
   "execution_count": 49,
   "metadata": {},
   "outputs": [
    {
     "data": {
      "text/plain": [
       "['Debi Lilly Hydrangea 3 Stem',\n",
       " 'California Grown Deluxe Bouquet',\n",
       " 'Alstroemeria 9 Stem',\n",
       " '1.50 LB Cinnamon Sugar Tortilla Chips',\n",
       " 'Lily Stargazer 3 Stem',\n",
       " 'Mini Carnations 1 Bunch',\n",
       " 'Poms 9 Stem',\n",
       " 'Rosemary Cone',\n",
       " 'Roses Pink',\n",
       " 'Roses Rainbow']"
      ]
     },
     "execution_count": 49,
     "metadata": {},
     "output_type": "execute_result"
    }
   ],
   "source": [
    "products[0:10]"
   ]
  },
  {
   "cell_type": "code",
   "execution_count": 50,
   "metadata": {},
   "outputs": [
    {
     "data": {
      "text/plain": [
       "158786"
      ]
     },
     "execution_count": 50,
     "metadata": {},
     "output_type": "execute_result"
    }
   ],
   "source": [
    "len(products)"
   ]
  },
  {
   "cell_type": "code",
   "execution_count": 51,
   "metadata": {},
   "outputs": [
    {
     "data": {
      "text/plain": [
       "1713"
      ]
     },
     "execution_count": 51,
     "metadata": {},
     "output_type": "execute_result"
    }
   ],
   "source": [
    "len(categories)"
   ]
  },
  {
   "cell_type": "code",
   "execution_count": 52,
   "metadata": {},
   "outputs": [
    {
     "data": {
      "text/plain": [
       "256"
      ]
     },
     "execution_count": 52,
     "metadata": {},
     "output_type": "execute_result"
    }
   ],
   "source": [
    "len(coicop_categories)"
   ]
  },
  {
   "cell_type": "markdown",
   "metadata": {},
   "source": [
    "## Compare categories with Spacy"
   ]
  },
  {
   "cell_type": "code",
   "execution_count": null,
   "metadata": {},
   "outputs": [],
   "source": [
    "nlp = spacy.load(\"en_vectors_web_lg\")"
   ]
  },
  {
   "cell_type": "code",
   "execution_count": null,
   "metadata": {},
   "outputs": [],
   "source": [
    "category_tok = [nlp(cat) for cat in categories]"
   ]
  },
  {
   "cell_type": "code",
   "execution_count": null,
   "metadata": {},
   "outputs": [],
   "source": [
    "coicop_tok = [nlp(cat) for cat in coicop_categories]"
   ]
  },
  {
   "cell_type": "code",
   "execution_count": null,
   "metadata": {},
   "outputs": [],
   "source": [
    "with open('cat_matching_spacy.csv','w') as f1:\n",
    "    writer=csv.writer(f1, delimiter=',',lineterminator='\\n',)\n",
    "    for c in category_tok:\n",
    "        best = ('','',0)\n",
    "        try:\n",
    "            for c_ in coicop_tok:\n",
    "                try:\n",
    "                    score = c.similarity(c_)\n",
    "                    if score > best[2]:\n",
    "                        best = (c,c_,score)\n",
    "                except:\n",
    "                    continue\n",
    "            writer.writerow(best)\n",
    "        except:\n",
    "            continue"
   ]
  },
  {
   "cell_type": "code",
   "execution_count": 53,
   "metadata": {},
   "outputs": [],
   "source": [
    "spacy_results = pd.read_csv(\"cat_matching_spacy.csv\", names=[\"Category\", \"Coicop Cat\", \"Conf Cat\"])"
   ]
  },
  {
   "cell_type": "code",
   "execution_count": 54,
   "metadata": {},
   "outputs": [
    {
     "data": {
      "text/html": [
       "<div>\n",
       "<style scoped>\n",
       "    .dataframe tbody tr th:only-of-type {\n",
       "        vertical-align: middle;\n",
       "    }\n",
       "\n",
       "    .dataframe tbody tr th {\n",
       "        vertical-align: top;\n",
       "    }\n",
       "\n",
       "    .dataframe thead th {\n",
       "        text-align: right;\n",
       "    }\n",
       "</style>\n",
       "<table border=\"1\" class=\"dataframe\">\n",
       "  <thead>\n",
       "    <tr style=\"text-align: right;\">\n",
       "      <th></th>\n",
       "      <th>Category</th>\n",
       "      <th>Coicop Cat</th>\n",
       "      <th>Conf Cat</th>\n",
       "    </tr>\n",
       "  </thead>\n",
       "  <tbody>\n",
       "    <tr>\n",
       "      <th>0</th>\n",
       "      <td>Flowers</td>\n",
       "      <td>Plants and flowers</td>\n",
       "      <td>0.861174</td>\n",
       "    </tr>\n",
       "    <tr>\n",
       "      <th>1</th>\n",
       "      <td>Toddler Foods</td>\n",
       "      <td>Baby food</td>\n",
       "      <td>0.830930</td>\n",
       "    </tr>\n",
       "    <tr>\n",
       "      <th>2</th>\n",
       "      <td>Whiskey</td>\n",
       "      <td>Vodka</td>\n",
       "      <td>0.731175</td>\n",
       "    </tr>\n",
       "    <tr>\n",
       "      <th>3</th>\n",
       "      <td>Cigarettes</td>\n",
       "      <td>Cigarettes</td>\n",
       "      <td>1.000000</td>\n",
       "    </tr>\n",
       "    <tr>\n",
       "      <th>4</th>\n",
       "      <td>Other Animal Care</td>\n",
       "      <td>Other medical products n.e.c.</td>\n",
       "      <td>0.789607</td>\n",
       "    </tr>\n",
       "    <tr>\n",
       "      <th>5</th>\n",
       "      <td>Zinc</td>\n",
       "      <td>Mineral salt</td>\n",
       "      <td>0.599264</td>\n",
       "    </tr>\n",
       "    <tr>\n",
       "      <th>6</th>\n",
       "      <td>Trash Bags  Outside</td>\n",
       "      <td>Dog food dry</td>\n",
       "      <td>0.592026</td>\n",
       "    </tr>\n",
       "    <tr>\n",
       "      <th>7</th>\n",
       "      <td>Hot Dogs Franks</td>\n",
       "      <td>Dog food, meat</td>\n",
       "      <td>0.692350</td>\n",
       "    </tr>\n",
       "    <tr>\n",
       "      <th>8</th>\n",
       "      <td>Southern Foods</td>\n",
       "      <td>Baby food, meat base</td>\n",
       "      <td>0.689568</td>\n",
       "    </tr>\n",
       "    <tr>\n",
       "      <th>9</th>\n",
       "      <td>Rice</td>\n",
       "      <td>Rice</td>\n",
       "      <td>1.000000</td>\n",
       "    </tr>\n",
       "    <tr>\n",
       "      <th>10</th>\n",
       "      <td>Tofu Meat Alternatives</td>\n",
       "      <td>Dried, salted or smoked meat and edible meat o...</td>\n",
       "      <td>0.821797</td>\n",
       "    </tr>\n",
       "    <tr>\n",
       "      <th>11</th>\n",
       "      <td>Sherbet Sorbet</td>\n",
       "      <td>Fruit yoghurt</td>\n",
       "      <td>0.649338</td>\n",
       "    </tr>\n",
       "    <tr>\n",
       "      <th>12</th>\n",
       "      <td>Ice</td>\n",
       "      <td>Ice cream</td>\n",
       "      <td>0.896909</td>\n",
       "    </tr>\n",
       "    <tr>\n",
       "      <th>13</th>\n",
       "      <td>Gourmet Deli Condiments</td>\n",
       "      <td>Sauces, condiments</td>\n",
       "      <td>0.772134</td>\n",
       "    </tr>\n",
       "    <tr>\n",
       "      <th>14</th>\n",
       "      <td>Yogurt</td>\n",
       "      <td>Yoghurt</td>\n",
       "      <td>0.869082</td>\n",
       "    </tr>\n",
       "  </tbody>\n",
       "</table>\n",
       "</div>"
      ],
      "text/plain": [
       "                   Category  \\\n",
       "0                   Flowers   \n",
       "1             Toddler Foods   \n",
       "2                   Whiskey   \n",
       "3                Cigarettes   \n",
       "4         Other Animal Care   \n",
       "5                      Zinc   \n",
       "6       Trash Bags  Outside   \n",
       "7           Hot Dogs Franks   \n",
       "8            Southern Foods   \n",
       "9                      Rice   \n",
       "10   Tofu Meat Alternatives   \n",
       "11           Sherbet Sorbet   \n",
       "12                      Ice   \n",
       "13  Gourmet Deli Condiments   \n",
       "14                   Yogurt   \n",
       "\n",
       "                                           Coicop Cat  Conf Cat  \n",
       "0                                  Plants and flowers  0.861174  \n",
       "1                                           Baby food  0.830930  \n",
       "2                                              Vodka   0.731175  \n",
       "3                                          Cigarettes  1.000000  \n",
       "4                       Other medical products n.e.c.  0.789607  \n",
       "5                                       Mineral salt   0.599264  \n",
       "6                                       Dog food dry   0.592026  \n",
       "7                                     Dog food, meat   0.692350  \n",
       "8                               Baby food, meat base   0.689568  \n",
       "9                                                Rice  1.000000  \n",
       "10  Dried, salted or smoked meat and edible meat o...  0.821797  \n",
       "11                                     Fruit yoghurt   0.649338  \n",
       "12                                         Ice cream   0.896909  \n",
       "13                                 Sauces, condiments  0.772134  \n",
       "14                                            Yoghurt  0.869082  "
      ]
     },
     "execution_count": 54,
     "metadata": {},
     "output_type": "execute_result"
    }
   ],
   "source": [
    "spacy_results.head(15)"
   ]
  },
  {
   "cell_type": "code",
   "execution_count": 55,
   "metadata": {},
   "outputs": [
    {
     "data": {
      "text/plain": [
       "Category      4\n",
       "Coicop Cat    4\n",
       "Conf Cat      0\n",
       "dtype: int64"
      ]
     },
     "execution_count": 55,
     "metadata": {},
     "output_type": "execute_result"
    }
   ],
   "source": [
    "spacy_results.isna().sum()"
   ]
  },
  {
   "cell_type": "code",
   "execution_count": 56,
   "metadata": {},
   "outputs": [
    {
     "data": {
      "text/plain": [
       "871"
      ]
     },
     "execution_count": 56,
     "metadata": {},
     "output_type": "execute_result"
    }
   ],
   "source": [
    "spacy_results[\"Conf Cat\"][spacy_results[\"Conf Cat\"] < 0.7].count()"
   ]
  },
  {
   "cell_type": "code",
   "execution_count": 57,
   "metadata": {},
   "outputs": [
    {
     "data": {
      "text/plain": [
       "(1713, 3)"
      ]
     },
     "execution_count": 57,
     "metadata": {},
     "output_type": "execute_result"
    }
   ],
   "source": [
    "spacy_results.shape"
   ]
  },
  {
   "cell_type": "code",
   "execution_count": 58,
   "metadata": {},
   "outputs": [
    {
     "data": {
      "text/plain": [
       "0.6864887268593091"
      ]
     },
     "execution_count": 58,
     "metadata": {},
     "output_type": "execute_result"
    }
   ],
   "source": [
    "spacy_results[\"Conf Cat\"].mean()"
   ]
  },
  {
   "cell_type": "code",
   "execution_count": 59,
   "metadata": {},
   "outputs": [
    {
     "data": {
      "text/plain": [
       "(array([  4.,   3.,  10.,  29., 136., 288., 401., 437., 316.,  89.]),\n",
       " array([0.        , 0.10000001, 0.20000002, 0.30000003, 0.40000004,\n",
       "        0.50000005, 0.60000007, 0.70000008, 0.80000009, 0.9000001 ,\n",
       "        1.00000011]),\n",
       " <BarContainer object of 10 artists>)"
      ]
     },
     "execution_count": 59,
     "metadata": {},
     "output_type": "execute_result"
    },
    {
     "data": {
      "image/png": "[encoded data removed]",
      "text/plain": [
       "<Figure size 432x288 with 1 Axes>"
      ]
     },
     "metadata": {
      "needs_background": "light"
     },
     "output_type": "display_data"
    }
   ],
   "source": [
    "plt.hist(spacy_results[\"Conf Cat\"])"
   ]
  },
  {
   "cell_type": "code",
   "execution_count": 60,
   "metadata": {},
   "outputs": [
    {
     "data": {
      "text/plain": [
       "0.21647284805085149"
      ]
     },
     "execution_count": 60,
     "metadata": {},
     "output_type": "execute_result"
    }
   ],
   "source": [
    "spacy_results[\"Conf Cat\"].std()/spacy_results[\"Conf Cat\"].mean()"
   ]
  },
  {
   "cell_type": "markdown",
   "metadata": {},
   "source": [
    "## Compare categories and product names with Spacy"
   ]
  },
  {
   "cell_type": "code",
   "execution_count": null,
   "metadata": {},
   "outputs": [],
   "source": [
    "product_tok = [nlp(cat) for cat in products]"
   ]
  },
  {
   "cell_type": "code",
   "execution_count": null,
   "metadata": {},
   "outputs": [],
   "source": [
    "with open('prod_matching_spacy.csv','w') as f1:\n",
    "    writer=csv.writer(f1, delimiter=',',lineterminator='\\n',)\n",
    "    for c in product_tok:\n",
    "        best = ('','',0)\n",
    "        try:\n",
    "            for c_ in coicop_tok:\n",
    "                try:\n",
    "                    score = c.similarity(c_)\n",
    "                    if score > best[2]:\n",
    "                        best = (c,c_,score)\n",
    "                except:\n",
    "                    continue\n",
    "            writer.writerow(best)\n",
    "        except:\n",
    "            continue"
   ]
  },
  {
   "cell_type": "code",
   "execution_count": 61,
   "metadata": {},
   "outputs": [],
   "source": [
    "spacy_results_prod = pd.read_csv(\"prod_matching_spacy.csv\", names=[\"Product\", \"Coicop Prod\", \"Conf Prod\"])"
   ]
  },
  {
   "cell_type": "code",
   "execution_count": 62,
   "metadata": {},
   "outputs": [
    {
     "data": {
      "text/html": [
       "<div>\n",
       "<style scoped>\n",
       "    .dataframe tbody tr th:only-of-type {\n",
       "        vertical-align: middle;\n",
       "    }\n",
       "\n",
       "    .dataframe tbody tr th {\n",
       "        vertical-align: top;\n",
       "    }\n",
       "\n",
       "    .dataframe thead th {\n",
       "        text-align: right;\n",
       "    }\n",
       "</style>\n",
       "<table border=\"1\" class=\"dataframe\">\n",
       "  <thead>\n",
       "    <tr style=\"text-align: right;\">\n",
       "      <th></th>\n",
       "      <th>Product</th>\n",
       "      <th>Coicop Prod</th>\n",
       "      <th>Conf Prod</th>\n",
       "    </tr>\n",
       "  </thead>\n",
       "  <tbody>\n",
       "    <tr>\n",
       "      <th>0</th>\n",
       "      <td>Debi Lilly Hydrangea 3 Stem</td>\n",
       "      <td>Leaf and stem vegetables</td>\n",
       "      <td>0.533939</td>\n",
       "    </tr>\n",
       "    <tr>\n",
       "      <th>1</th>\n",
       "      <td>California Grown Deluxe Bouquet</td>\n",
       "      <td>Vegetable grown for their fruit</td>\n",
       "      <td>0.610329</td>\n",
       "    </tr>\n",
       "    <tr>\n",
       "      <th>2</th>\n",
       "      <td>Alstroemeria 9 Stem</td>\n",
       "      <td>Leaf and stem vegetables</td>\n",
       "      <td>0.506795</td>\n",
       "    </tr>\n",
       "    <tr>\n",
       "      <th>3</th>\n",
       "      <td>1.50 LB Cinnamon Sugar Tortilla Chips</td>\n",
       "      <td>Butter</td>\n",
       "      <td>0.764394</td>\n",
       "    </tr>\n",
       "    <tr>\n",
       "      <th>4</th>\n",
       "      <td>Lily Stargazer 3 Stem</td>\n",
       "      <td>Leaf and stem vegetables</td>\n",
       "      <td>0.608580</td>\n",
       "    </tr>\n",
       "    <tr>\n",
       "      <th>5</th>\n",
       "      <td>Mini Carnations 1 Bunch</td>\n",
       "      <td>Potato crisps, single pack</td>\n",
       "      <td>0.599649</td>\n",
       "    </tr>\n",
       "    <tr>\n",
       "      <th>6</th>\n",
       "      <td>Poms 9 Stem</td>\n",
       "      <td>Leaf and stem vegetables</td>\n",
       "      <td>0.578002</td>\n",
       "    </tr>\n",
       "    <tr>\n",
       "      <th>7</th>\n",
       "      <td>Rosemary Cone</td>\n",
       "      <td>Leaf and stem vegetables</td>\n",
       "      <td>0.600605</td>\n",
       "    </tr>\n",
       "    <tr>\n",
       "      <th>8</th>\n",
       "      <td>Roses Pink</td>\n",
       "      <td>Plants and flowers</td>\n",
       "      <td>0.679916</td>\n",
       "    </tr>\n",
       "    <tr>\n",
       "      <th>9</th>\n",
       "      <td>Roses Rainbow</td>\n",
       "      <td>Plants and flowers</td>\n",
       "      <td>0.660013</td>\n",
       "    </tr>\n",
       "    <tr>\n",
       "      <th>10</th>\n",
       "      <td>Roses Red</td>\n",
       "      <td>Red wine</td>\n",
       "      <td>0.734373</td>\n",
       "    </tr>\n",
       "    <tr>\n",
       "      <th>11</th>\n",
       "      <td>Roses White</td>\n",
       "      <td>White wine</td>\n",
       "      <td>0.733207</td>\n",
       "    </tr>\n",
       "    <tr>\n",
       "      <th>12</th>\n",
       "      <td>Roses Yellow Orange</td>\n",
       "      <td>Orange juice</td>\n",
       "      <td>0.751579</td>\n",
       "    </tr>\n",
       "    <tr>\n",
       "      <th>13</th>\n",
       "      <td>Gerber Grad Veggie Pick Ups Carrots</td>\n",
       "      <td>Fresh carrots</td>\n",
       "      <td>0.716489</td>\n",
       "    </tr>\n",
       "    <tr>\n",
       "      <th>14</th>\n",
       "      <td>Gerber Graduates Breakfast Buddies Apple Cinnamon</td>\n",
       "      <td>Fresh bananas</td>\n",
       "      <td>0.656857</td>\n",
       "    </tr>\n",
       "  </tbody>\n",
       "</table>\n",
       "</div>"
      ],
      "text/plain": [
       "                                              Product  \\\n",
       "0                         Debi Lilly Hydrangea 3 Stem   \n",
       "1                     California Grown Deluxe Bouquet   \n",
       "2                                 Alstroemeria 9 Stem   \n",
       "3               1.50 LB Cinnamon Sugar Tortilla Chips   \n",
       "4                               Lily Stargazer 3 Stem   \n",
       "5                             Mini Carnations 1 Bunch   \n",
       "6                                         Poms 9 Stem   \n",
       "7                                       Rosemary Cone   \n",
       "8                                          Roses Pink   \n",
       "9                                       Roses Rainbow   \n",
       "10                                          Roses Red   \n",
       "11                                        Roses White   \n",
       "12                                Roses Yellow Orange   \n",
       "13                Gerber Grad Veggie Pick Ups Carrots   \n",
       "14  Gerber Graduates Breakfast Buddies Apple Cinnamon   \n",
       "\n",
       "                         Coicop Prod  Conf Prod  \n",
       "0          Leaf and stem vegetables    0.533939  \n",
       "1   Vegetable grown for their fruit    0.610329  \n",
       "2          Leaf and stem vegetables    0.506795  \n",
       "3                             Butter   0.764394  \n",
       "4          Leaf and stem vegetables    0.608580  \n",
       "5        Potato crisps, single pack    0.599649  \n",
       "6          Leaf and stem vegetables    0.578002  \n",
       "7          Leaf and stem vegetables    0.600605  \n",
       "8                 Plants and flowers   0.679916  \n",
       "9                 Plants and flowers   0.660013  \n",
       "10                         Red wine    0.734373  \n",
       "11                       White wine    0.733207  \n",
       "12                     Orange juice    0.751579  \n",
       "13                    Fresh carrots    0.716489  \n",
       "14                    Fresh bananas    0.656857  "
      ]
     },
     "execution_count": 62,
     "metadata": {},
     "output_type": "execute_result"
    }
   ],
   "source": [
    "spacy_results_prod.head(15)"
   ]
  },
  {
   "cell_type": "code",
   "execution_count": 63,
   "metadata": {},
   "outputs": [
    {
     "data": {
      "text/plain": [
       "Product        40\n",
       "Coicop Prod    40\n",
       "Conf Prod       0\n",
       "dtype: int64"
      ]
     },
     "execution_count": 63,
     "metadata": {},
     "output_type": "execute_result"
    }
   ],
   "source": [
    "spacy_results_prod.isna().sum()"
   ]
  },
  {
   "cell_type": "code",
   "execution_count": 64,
   "metadata": {},
   "outputs": [
    {
     "data": {
      "text/plain": [
       "78144"
      ]
     },
     "execution_count": 64,
     "metadata": {},
     "output_type": "execute_result"
    }
   ],
   "source": [
    "spacy_results_prod[\"Conf Prod\"][spacy_results_prod[\"Conf Prod\"] < 0.7].count()"
   ]
  },
  {
   "cell_type": "code",
   "execution_count": 65,
   "metadata": {},
   "outputs": [
    {
     "data": {
      "text/plain": [
       "(158786, 3)"
      ]
     },
     "execution_count": 65,
     "metadata": {},
     "output_type": "execute_result"
    }
   ],
   "source": [
    "spacy_results_prod.shape"
   ]
  },
  {
   "cell_type": "code",
   "execution_count": 66,
   "metadata": {},
   "outputs": [
    {
     "data": {
      "text/plain": [
       "0.6934664819082652"
      ]
     },
     "execution_count": 66,
     "metadata": {},
     "output_type": "execute_result"
    }
   ],
   "source": [
    "spacy_results_prod[\"Conf Prod\"].mean()"
   ]
  },
  {
   "cell_type": "code",
   "execution_count": 67,
   "metadata": {},
   "outputs": [
    {
     "data": {
      "text/plain": [
       "(array([4.2000e+01, 7.3000e+01, 3.6200e+02, 1.1270e+03, 4.0290e+03,\n",
       "        1.7079e+04, 5.5432e+04, 6.2015e+04, 1.8228e+04, 3.9900e+02]),\n",
       " array([0.        , 0.10000001, 0.20000002, 0.30000003, 0.40000004,\n",
       "        0.50000005, 0.60000007, 0.70000008, 0.80000009, 0.9000001 ,\n",
       "        1.00000011]),\n",
       " <BarContainer object of 10 artists>)"
      ]
     },
     "execution_count": 67,
     "metadata": {},
     "output_type": "execute_result"
    },
    {
     "data": {
      "image/png": "[encoded data removed]",
      "text/plain": [
       "<Figure size 432x288 with 1 Axes>"
      ]
     },
     "metadata": {
      "needs_background": "light"
     },
     "output_type": "display_data"
    }
   ],
   "source": [
    "plt.hist(spacy_results_prod[\"Conf Prod\"])"
   ]
  },
  {
   "cell_type": "code",
   "execution_count": 68,
   "metadata": {},
   "outputs": [
    {
     "data": {
      "text/plain": [
       "0.1389986854767692"
      ]
     },
     "execution_count": 68,
     "metadata": {},
     "output_type": "execute_result"
    }
   ],
   "source": [
    "spacy_results_prod[\"Conf Prod\"].std()/spacy_results_prod[\"Conf Prod\"].mean()"
   ]
  },
  {
   "cell_type": "markdown",
   "metadata": {},
   "source": [
    "## Combine product and category matching"
   ]
  },
  {
   "cell_type": "markdown",
   "metadata": {},
   "source": [
    "Align category and item name to cleaning made for NLP processing"
   ]
  },
  {
   "cell_type": "code",
   "execution_count": 69,
   "metadata": {},
   "outputs": [],
   "source": [
    "df[\"cat_clean\"] = [re.sub(r'-', ' ', cat) for cat in df[\"category\"]]"
   ]
  },
  {
   "cell_type": "code",
   "execution_count": 70,
   "metadata": {},
   "outputs": [],
   "source": [
    "results = df.merge(spacy_results, how = \"left\", left_on = \"cat_clean\", right_on = \"Category\").merge(spacy_results_prod, how = \"left\", left_on = \"item\", right_on = \"Product\")\n",
    "results.drop(columns=[\"Category\", \"Product\"], inplace=True)"
   ]
  },
  {
   "cell_type": "code",
   "execution_count": 71,
   "metadata": {},
   "outputs": [
    {
     "data": {
      "text/plain": [
       "price               0\n",
       "unit           140154\n",
       "category            0\n",
       "city                0\n",
       "store               0\n",
       "date                0\n",
       "item                0\n",
       "size           384460\n",
       "cat_clean           0\n",
       "Coicop Cat        870\n",
       "Conf Cat          870\n",
       "Coicop Prod       254\n",
       "Conf Prod         254\n",
       "dtype: int64"
      ]
     },
     "execution_count": 71,
     "metadata": {},
     "output_type": "execute_result"
    }
   ],
   "source": [
    "results.isna().sum()"
   ]
  },
  {
   "cell_type": "code",
   "execution_count": 72,
   "metadata": {},
   "outputs": [
    {
     "data": {
      "text/plain": [
       "(1035535, 13)"
      ]
     },
     "execution_count": 72,
     "metadata": {},
     "output_type": "execute_result"
    }
   ],
   "source": [
    "results.shape"
   ]
  },
  {
   "cell_type": "code",
   "execution_count": 73,
   "metadata": {},
   "outputs": [
    {
     "data": {
      "text/plain": [
       "(1035535, 9)"
      ]
     },
     "execution_count": 73,
     "metadata": {},
     "output_type": "execute_result"
    }
   ],
   "source": [
    "df.shape"
   ]
  },
  {
   "cell_type": "code",
   "execution_count": 74,
   "metadata": {},
   "outputs": [
    {
     "data": {
      "text/html": [
       "<div>\n",
       "<style scoped>\n",
       "    .dataframe tbody tr th:only-of-type {\n",
       "        vertical-align: middle;\n",
       "    }\n",
       "\n",
       "    .dataframe tbody tr th {\n",
       "        vertical-align: top;\n",
       "    }\n",
       "\n",
       "    .dataframe thead th {\n",
       "        text-align: right;\n",
       "    }\n",
       "</style>\n",
       "<table border=\"1\" class=\"dataframe\">\n",
       "  <thead>\n",
       "    <tr style=\"text-align: right;\">\n",
       "      <th></th>\n",
       "      <th>price</th>\n",
       "      <th>unit</th>\n",
       "      <th>category</th>\n",
       "      <th>city</th>\n",
       "      <th>store</th>\n",
       "      <th>date</th>\n",
       "      <th>item</th>\n",
       "      <th>size</th>\n",
       "      <th>cat_clean</th>\n",
       "      <th>Coicop Cat</th>\n",
       "      <th>Conf Cat</th>\n",
       "      <th>Coicop Prod</th>\n",
       "      <th>Conf Prod</th>\n",
       "    </tr>\n",
       "  </thead>\n",
       "  <tbody>\n",
       "    <tr>\n",
       "      <th>0</th>\n",
       "      <td>$8.99</td>\n",
       "      <td>($8.99/each)</td>\n",
       "      <td>Flowers</td>\n",
       "      <td>LA</td>\n",
       "      <td>Vons</td>\n",
       "      <td>2017-01-10</td>\n",
       "      <td>Debi Lilly Hydrangea 3 Stem</td>\n",
       "      <td>colors may varyrrn</td>\n",
       "      <td>Flowers</td>\n",
       "      <td>Plants and flowers</td>\n",
       "      <td>0.861174</td>\n",
       "      <td>Leaf and stem vegetables</td>\n",
       "      <td>0.533939</td>\n",
       "    </tr>\n",
       "    <tr>\n",
       "      <th>1</th>\n",
       "      <td>$14.59</td>\n",
       "      <td>($14.59/each)</td>\n",
       "      <td>Flowers</td>\n",
       "      <td>LA</td>\n",
       "      <td>Vons</td>\n",
       "      <td>2017-01-10</td>\n",
       "      <td>California Grown Deluxe Bouquet</td>\n",
       "      <td>colors may vary</td>\n",
       "      <td>Flowers</td>\n",
       "      <td>Plants and flowers</td>\n",
       "      <td>0.861174</td>\n",
       "      <td>Vegetable grown for their fruit</td>\n",
       "      <td>0.610329</td>\n",
       "    </tr>\n",
       "    <tr>\n",
       "      <th>2</th>\n",
       "      <td>$6.79</td>\n",
       "      <td>($6.79/each)</td>\n",
       "      <td>Flowers</td>\n",
       "      <td>LA</td>\n",
       "      <td>Vons</td>\n",
       "      <td>2017-01-10</td>\n",
       "      <td>Alstroemeria 9 Stem</td>\n",
       "      <td>colors may vary</td>\n",
       "      <td>Flowers</td>\n",
       "      <td>Plants and flowers</td>\n",
       "      <td>0.861174</td>\n",
       "      <td>Leaf and stem vegetables</td>\n",
       "      <td>0.506795</td>\n",
       "    </tr>\n",
       "    <tr>\n",
       "      <th>3</th>\n",
       "      <td>$5.99</td>\n",
       "      <td>($3.99/lb)</td>\n",
       "      <td>Flowers</td>\n",
       "      <td>LA</td>\n",
       "      <td>Vons</td>\n",
       "      <td>2017-01-10</td>\n",
       "      <td>1.50 LB Cinnamon Sugar Tortilla Chips</td>\n",
       "      <td>None</td>\n",
       "      <td>Flowers</td>\n",
       "      <td>Plants and flowers</td>\n",
       "      <td>0.861174</td>\n",
       "      <td>Butter</td>\n",
       "      <td>0.764394</td>\n",
       "    </tr>\n",
       "    <tr>\n",
       "      <th>4</th>\n",
       "      <td>$8.99</td>\n",
       "      <td>($8.99/each)</td>\n",
       "      <td>Flowers</td>\n",
       "      <td>LA</td>\n",
       "      <td>Vons</td>\n",
       "      <td>2017-01-10</td>\n",
       "      <td>Lily Stargazer 3 Stem</td>\n",
       "      <td>colors may vary</td>\n",
       "      <td>Flowers</td>\n",
       "      <td>Plants and flowers</td>\n",
       "      <td>0.861174</td>\n",
       "      <td>Leaf and stem vegetables</td>\n",
       "      <td>0.608580</td>\n",
       "    </tr>\n",
       "    <tr>\n",
       "      <th>...</th>\n",
       "      <td>...</td>\n",
       "      <td>...</td>\n",
       "      <td>...</td>\n",
       "      <td>...</td>\n",
       "      <td>...</td>\n",
       "      <td>...</td>\n",
       "      <td>...</td>\n",
       "      <td>...</td>\n",
       "      <td>...</td>\n",
       "      <td>...</td>\n",
       "      <td>...</td>\n",
       "      <td>...</td>\n",
       "      <td>...</td>\n",
       "    </tr>\n",
       "    <tr>\n",
       "      <th>1035530</th>\n",
       "      <td>$10.00</td>\n",
       "      <td>NaN</td>\n",
       "      <td>bar-soap</td>\n",
       "      <td>Austin</td>\n",
       "      <td>HEB</td>\n",
       "      <td>2017-01-12</td>\n",
       "      <td>Pre de Provence Zodiaque Soap In Tin, Libra, EACH</td>\n",
       "      <td>None</td>\n",
       "      <td>bar soap</td>\n",
       "      <td>Toilet soap, liquid</td>\n",
       "      <td>0.734161</td>\n",
       "      <td>Toilet soap, liquid</td>\n",
       "      <td>0.668438</td>\n",
       "    </tr>\n",
       "    <tr>\n",
       "      <th>1035531</th>\n",
       "      <td>$5.90</td>\n",
       "      <td>($0.63 / OZ)</td>\n",
       "      <td>bar-soap</td>\n",
       "      <td>Austin</td>\n",
       "      <td>HEB</td>\n",
       "      <td>2017-01-12</td>\n",
       "      <td>Clean Well Foaming All-Natural Antibacterial L...</td>\n",
       "      <td>None</td>\n",
       "      <td>bar soap</td>\n",
       "      <td>Toilet soap, liquid</td>\n",
       "      <td>0.734161</td>\n",
       "      <td>Detergent for washing machine, powder, 70-90 g...</td>\n",
       "      <td>0.751411</td>\n",
       "    </tr>\n",
       "    <tr>\n",
       "      <th>1035532</th>\n",
       "      <td>$4.40</td>\n",
       "      <td>($1.36 / OZ)</td>\n",
       "      <td>bar-soap</td>\n",
       "      <td>Austin</td>\n",
       "      <td>HEB</td>\n",
       "      <td>2017-01-12</td>\n",
       "      <td>Grandpa's Patchouli Soap with Aloe Vera, 3.25 OZ</td>\n",
       "      <td>None</td>\n",
       "      <td>bar soap</td>\n",
       "      <td>Toilet soap, liquid</td>\n",
       "      <td>0.734161</td>\n",
       "      <td>Toilet soap, liquid</td>\n",
       "      <td>0.670858</td>\n",
       "    </tr>\n",
       "    <tr>\n",
       "      <th>1035533</th>\n",
       "      <td>$5.76</td>\n",
       "      <td>($0.96 / OZ)</td>\n",
       "      <td>bar-soap</td>\n",
       "      <td>Austin</td>\n",
       "      <td>HEB</td>\n",
       "      <td>2017-01-12</td>\n",
       "      <td>Grandma's After Workout Sports Bar Soap, Spear...</td>\n",
       "      <td>None</td>\n",
       "      <td>bar soap</td>\n",
       "      <td>Toilet soap, liquid</td>\n",
       "      <td>0.734161</td>\n",
       "      <td>Milk, fresh, unskimmed</td>\n",
       "      <td>0.740894</td>\n",
       "    </tr>\n",
       "    <tr>\n",
       "      <th>1035534</th>\n",
       "      <td>$2.00</td>\n",
       "      <td>($0.58 / OZ)</td>\n",
       "      <td>bar-soap</td>\n",
       "      <td>Austin</td>\n",
       "      <td>HEB</td>\n",
       "      <td>2017-01-12</td>\n",
       "      <td>Texas Scents Houston Texas Cedar with Lavender...</td>\n",
       "      <td>None</td>\n",
       "      <td>bar soap</td>\n",
       "      <td>Toilet soap, liquid</td>\n",
       "      <td>0.734161</td>\n",
       "      <td>Toilet soap, liquid</td>\n",
       "      <td>0.630048</td>\n",
       "    </tr>\n",
       "  </tbody>\n",
       "</table>\n",
       "<p>1035535 rows × 13 columns</p>\n",
       "</div>"
      ],
      "text/plain": [
       "          price           unit  category    city store        date  \\\n",
       "0         $8.99   ($8.99/each)   Flowers      LA  Vons  2017-01-10   \n",
       "1        $14.59  ($14.59/each)   Flowers      LA  Vons  2017-01-10   \n",
       "2         $6.79   ($6.79/each)   Flowers      LA  Vons  2017-01-10   \n",
       "3         $5.99     ($3.99/lb)   Flowers      LA  Vons  2017-01-10   \n",
       "4         $8.99   ($8.99/each)   Flowers      LA  Vons  2017-01-10   \n",
       "...         ...            ...       ...     ...   ...         ...   \n",
       "1035530  $10.00            NaN  bar-soap  Austin   HEB  2017-01-12   \n",
       "1035531   $5.90   ($0.63 / OZ)  bar-soap  Austin   HEB  2017-01-12   \n",
       "1035532   $4.40   ($1.36 / OZ)  bar-soap  Austin   HEB  2017-01-12   \n",
       "1035533   $5.76   ($0.96 / OZ)  bar-soap  Austin   HEB  2017-01-12   \n",
       "1035534   $2.00   ($0.58 / OZ)  bar-soap  Austin   HEB  2017-01-12   \n",
       "\n",
       "                                                      item  \\\n",
       "0                              Debi Lilly Hydrangea 3 Stem   \n",
       "1                          California Grown Deluxe Bouquet   \n",
       "2                                      Alstroemeria 9 Stem   \n",
       "3                    1.50 LB Cinnamon Sugar Tortilla Chips   \n",
       "4                                    Lily Stargazer 3 Stem   \n",
       "...                                                    ...   \n",
       "1035530  Pre de Provence Zodiaque Soap In Tin, Libra, EACH   \n",
       "1035531  Clean Well Foaming All-Natural Antibacterial L...   \n",
       "1035532   Grandpa's Patchouli Soap with Aloe Vera, 3.25 OZ   \n",
       "1035533  Grandma's After Workout Sports Bar Soap, Spear...   \n",
       "1035534  Texas Scents Houston Texas Cedar with Lavender...   \n",
       "\n",
       "                       size cat_clean            Coicop Cat  Conf Cat  \\\n",
       "0        colors may varyrrn   Flowers    Plants and flowers  0.861174   \n",
       "1           colors may vary   Flowers    Plants and flowers  0.861174   \n",
       "2           colors may vary   Flowers    Plants and flowers  0.861174   \n",
       "3                      None   Flowers    Plants and flowers  0.861174   \n",
       "4           colors may vary   Flowers    Plants and flowers  0.861174   \n",
       "...                     ...       ...                   ...       ...   \n",
       "1035530                None  bar soap  Toilet soap, liquid   0.734161   \n",
       "1035531                None  bar soap  Toilet soap, liquid   0.734161   \n",
       "1035532                None  bar soap  Toilet soap, liquid   0.734161   \n",
       "1035533                None  bar soap  Toilet soap, liquid   0.734161   \n",
       "1035534                None  bar soap  Toilet soap, liquid   0.734161   \n",
       "\n",
       "                                               Coicop Prod  Conf Prod  \n",
       "0                                Leaf and stem vegetables    0.533939  \n",
       "1                         Vegetable grown for their fruit    0.610329  \n",
       "2                                Leaf and stem vegetables    0.506795  \n",
       "3                                                   Butter   0.764394  \n",
       "4                                Leaf and stem vegetables    0.608580  \n",
       "...                                                    ...        ...  \n",
       "1035530                               Toilet soap, liquid    0.668438  \n",
       "1035531  Detergent for washing machine, powder, 70-90 g...   0.751411  \n",
       "1035532                               Toilet soap, liquid    0.670858  \n",
       "1035533                            Milk, fresh, unskimmed    0.740894  \n",
       "1035534                               Toilet soap, liquid    0.630048  \n",
       "\n",
       "[1035535 rows x 13 columns]"
      ]
     },
     "execution_count": 74,
     "metadata": {},
     "output_type": "execute_result"
    }
   ],
   "source": [
    "results"
   ]
  },
  {
   "cell_type": "markdown",
   "metadata": {},
   "source": [
    "## Only Categories matching"
   ]
  },
  {
   "cell_type": "code",
   "execution_count": 75,
   "metadata": {},
   "outputs": [],
   "source": [
    "results_cat = df.merge(spacy_results, how=\"left\", left_on = \"cat_clean\", right_on = \"Category\")\n",
    "results_cat.drop(columns=[\"Category\"], inplace=True)"
   ]
  },
  {
   "cell_type": "code",
   "execution_count": 76,
   "metadata": {},
   "outputs": [
    {
     "data": {
      "text/plain": [
       "(1035535, 11)"
      ]
     },
     "execution_count": 76,
     "metadata": {},
     "output_type": "execute_result"
    }
   ],
   "source": [
    "results_cat.shape"
   ]
  },
  {
   "cell_type": "code",
   "execution_count": 77,
   "metadata": {},
   "outputs": [
    {
     "data": {
      "text/plain": [
       "(1035535, 9)"
      ]
     },
     "execution_count": 77,
     "metadata": {},
     "output_type": "execute_result"
    }
   ],
   "source": [
    "df.shape"
   ]
  },
  {
   "cell_type": "code",
   "execution_count": 78,
   "metadata": {},
   "outputs": [
    {
     "data": {
      "text/plain": [
       "price              0\n",
       "unit          140154\n",
       "category           0\n",
       "city               0\n",
       "store              0\n",
       "date               0\n",
       "item               0\n",
       "size          384460\n",
       "cat_clean          0\n",
       "Coicop Cat       870\n",
       "Conf Cat         870\n",
       "dtype: int64"
      ]
     },
     "execution_count": 78,
     "metadata": {},
     "output_type": "execute_result"
    }
   ],
   "source": [
    "results_cat.isna().sum()"
   ]
  },
  {
   "cell_type": "code",
   "execution_count": 79,
   "metadata": {},
   "outputs": [
    {
     "data": {
      "text/plain": [
       "1713"
      ]
     },
     "execution_count": 79,
     "metadata": {},
     "output_type": "execute_result"
    }
   ],
   "source": [
    "len(df[\"category\"].unique())"
   ]
  },
  {
   "cell_type": "code",
   "execution_count": 80,
   "metadata": {},
   "outputs": [
    {
     "data": {
      "text/plain": [
       "1710"
      ]
     },
     "execution_count": 80,
     "metadata": {},
     "output_type": "execute_result"
    }
   ],
   "source": [
    "len(spacy_results[\"Category\"].unique())"
   ]
  },
  {
   "cell_type": "code",
   "execution_count": 81,
   "metadata": {},
   "outputs": [
    {
     "data": {
      "text/html": [
       "<div>\n",
       "<style scoped>\n",
       "    .dataframe tbody tr th:only-of-type {\n",
       "        vertical-align: middle;\n",
       "    }\n",
       "\n",
       "    .dataframe tbody tr th {\n",
       "        vertical-align: top;\n",
       "    }\n",
       "\n",
       "    .dataframe thead th {\n",
       "        text-align: right;\n",
       "    }\n",
       "</style>\n",
       "<table border=\"1\" class=\"dataframe\">\n",
       "  <thead>\n",
       "    <tr style=\"text-align: right;\">\n",
       "      <th></th>\n",
       "      <th>Category</th>\n",
       "      <th>Coicop Cat</th>\n",
       "      <th>Conf Cat</th>\n",
       "    </tr>\n",
       "  </thead>\n",
       "  <tbody>\n",
       "    <tr>\n",
       "      <th>1149</th>\n",
       "      <td>NaN</td>\n",
       "      <td>NaN</td>\n",
       "      <td>0.0</td>\n",
       "    </tr>\n",
       "    <tr>\n",
       "      <th>1196</th>\n",
       "      <td>NaN</td>\n",
       "      <td>NaN</td>\n",
       "      <td>0.0</td>\n",
       "    </tr>\n",
       "    <tr>\n",
       "      <th>1332</th>\n",
       "      <td>NaN</td>\n",
       "      <td>NaN</td>\n",
       "      <td>0.0</td>\n",
       "    </tr>\n",
       "    <tr>\n",
       "      <th>1470</th>\n",
       "      <td>NaN</td>\n",
       "      <td>NaN</td>\n",
       "      <td>0.0</td>\n",
       "    </tr>\n",
       "  </tbody>\n",
       "</table>\n",
       "</div>"
      ],
      "text/plain": [
       "     Category Coicop Cat  Conf Cat\n",
       "1149      NaN        NaN       0.0\n",
       "1196      NaN        NaN       0.0\n",
       "1332      NaN        NaN       0.0\n",
       "1470      NaN        NaN       0.0"
      ]
     },
     "execution_count": 81,
     "metadata": {},
     "output_type": "execute_result"
    }
   ],
   "source": [
    "spacy_results[spacy_results[\"Category\"].isna()]"
   ]
  },
  {
   "cell_type": "code",
   "execution_count": 82,
   "metadata": {},
   "outputs": [
    {
     "data": {
      "text/plain": [
       "'mouthrinse'"
      ]
     },
     "execution_count": 82,
     "metadata": {},
     "output_type": "execute_result"
    }
   ],
   "source": [
    "categories[1149]"
   ]
  },
  {
   "cell_type": "code",
   "execution_count": 83,
   "metadata": {},
   "outputs": [
    {
     "data": {
      "text/plain": [
       "'barette'"
      ]
     },
     "execution_count": 83,
     "metadata": {},
     "output_type": "execute_result"
    }
   ],
   "source": [
    "categories[1196]"
   ]
  },
  {
   "cell_type": "code",
   "execution_count": 84,
   "metadata": {},
   "outputs": [
    {
     "data": {
      "text/plain": [
       "'serveware'"
      ]
     },
     "execution_count": 84,
     "metadata": {},
     "output_type": "execute_result"
    }
   ],
   "source": [
    "categories[1332]"
   ]
  },
  {
   "cell_type": "code",
   "execution_count": 85,
   "metadata": {},
   "outputs": [
    {
     "data": {
      "text/plain": [
       "'offals'"
      ]
     },
     "execution_count": 85,
     "metadata": {},
     "output_type": "execute_result"
    }
   ],
   "source": [
    "categories[1470]"
   ]
  },
  {
   "cell_type": "code",
   "execution_count": 86,
   "metadata": {},
   "outputs": [
    {
     "data": {
      "text/plain": [
       "658"
      ]
     },
     "execution_count": 86,
     "metadata": {},
     "output_type": "execute_result"
    }
   ],
   "source": [
    "len(df[df[\"category\"] == \"serveware\"])"
   ]
  },
  {
   "cell_type": "code",
   "execution_count": 87,
   "metadata": {},
   "outputs": [
    {
     "data": {
      "text/html": [
       "<div>\n",
       "<style scoped>\n",
       "    .dataframe tbody tr th:only-of-type {\n",
       "        vertical-align: middle;\n",
       "    }\n",
       "\n",
       "    .dataframe tbody tr th {\n",
       "        vertical-align: top;\n",
       "    }\n",
       "\n",
       "    .dataframe thead th {\n",
       "        text-align: right;\n",
       "    }\n",
       "</style>\n",
       "<table border=\"1\" class=\"dataframe\">\n",
       "  <thead>\n",
       "    <tr style=\"text-align: right;\">\n",
       "      <th></th>\n",
       "      <th>price</th>\n",
       "      <th>unit</th>\n",
       "      <th>category</th>\n",
       "      <th>city</th>\n",
       "      <th>store</th>\n",
       "      <th>date</th>\n",
       "      <th>item</th>\n",
       "      <th>size</th>\n",
       "      <th>cat_clean</th>\n",
       "      <th>Coicop Cat</th>\n",
       "      <th>Conf Cat</th>\n",
       "    </tr>\n",
       "  </thead>\n",
       "  <tbody>\n",
       "    <tr>\n",
       "      <th>0</th>\n",
       "      <td>$8.99</td>\n",
       "      <td>($8.99/each)</td>\n",
       "      <td>Flowers</td>\n",
       "      <td>LA</td>\n",
       "      <td>Vons</td>\n",
       "      <td>2017-01-10</td>\n",
       "      <td>Debi Lilly Hydrangea 3 Stem</td>\n",
       "      <td>colors may varyrrn</td>\n",
       "      <td>Flowers</td>\n",
       "      <td>Plants and flowers</td>\n",
       "      <td>0.861174</td>\n",
       "    </tr>\n",
       "    <tr>\n",
       "      <th>1</th>\n",
       "      <td>$14.59</td>\n",
       "      <td>($14.59/each)</td>\n",
       "      <td>Flowers</td>\n",
       "      <td>LA</td>\n",
       "      <td>Vons</td>\n",
       "      <td>2017-01-10</td>\n",
       "      <td>California Grown Deluxe Bouquet</td>\n",
       "      <td>colors may vary</td>\n",
       "      <td>Flowers</td>\n",
       "      <td>Plants and flowers</td>\n",
       "      <td>0.861174</td>\n",
       "    </tr>\n",
       "    <tr>\n",
       "      <th>2</th>\n",
       "      <td>$6.79</td>\n",
       "      <td>($6.79/each)</td>\n",
       "      <td>Flowers</td>\n",
       "      <td>LA</td>\n",
       "      <td>Vons</td>\n",
       "      <td>2017-01-10</td>\n",
       "      <td>Alstroemeria 9 Stem</td>\n",
       "      <td>colors may vary</td>\n",
       "      <td>Flowers</td>\n",
       "      <td>Plants and flowers</td>\n",
       "      <td>0.861174</td>\n",
       "    </tr>\n",
       "    <tr>\n",
       "      <th>3</th>\n",
       "      <td>$5.99</td>\n",
       "      <td>($3.99/lb)</td>\n",
       "      <td>Flowers</td>\n",
       "      <td>LA</td>\n",
       "      <td>Vons</td>\n",
       "      <td>2017-01-10</td>\n",
       "      <td>1.50 LB Cinnamon Sugar Tortilla Chips</td>\n",
       "      <td>None</td>\n",
       "      <td>Flowers</td>\n",
       "      <td>Plants and flowers</td>\n",
       "      <td>0.861174</td>\n",
       "    </tr>\n",
       "    <tr>\n",
       "      <th>4</th>\n",
       "      <td>$8.99</td>\n",
       "      <td>($8.99/each)</td>\n",
       "      <td>Flowers</td>\n",
       "      <td>LA</td>\n",
       "      <td>Vons</td>\n",
       "      <td>2017-01-10</td>\n",
       "      <td>Lily Stargazer 3 Stem</td>\n",
       "      <td>colors may vary</td>\n",
       "      <td>Flowers</td>\n",
       "      <td>Plants and flowers</td>\n",
       "      <td>0.861174</td>\n",
       "    </tr>\n",
       "    <tr>\n",
       "      <th>...</th>\n",
       "      <td>...</td>\n",
       "      <td>...</td>\n",
       "      <td>...</td>\n",
       "      <td>...</td>\n",
       "      <td>...</td>\n",
       "      <td>...</td>\n",
       "      <td>...</td>\n",
       "      <td>...</td>\n",
       "      <td>...</td>\n",
       "      <td>...</td>\n",
       "      <td>...</td>\n",
       "    </tr>\n",
       "    <tr>\n",
       "      <th>1035530</th>\n",
       "      <td>$10.00</td>\n",
       "      <td>NaN</td>\n",
       "      <td>bar-soap</td>\n",
       "      <td>Austin</td>\n",
       "      <td>HEB</td>\n",
       "      <td>2017-01-12</td>\n",
       "      <td>Pre de Provence Zodiaque Soap In Tin, Libra, EACH</td>\n",
       "      <td>None</td>\n",
       "      <td>bar soap</td>\n",
       "      <td>Toilet soap, liquid</td>\n",
       "      <td>0.734161</td>\n",
       "    </tr>\n",
       "    <tr>\n",
       "      <th>1035531</th>\n",
       "      <td>$5.90</td>\n",
       "      <td>($0.63 / OZ)</td>\n",
       "      <td>bar-soap</td>\n",
       "      <td>Austin</td>\n",
       "      <td>HEB</td>\n",
       "      <td>2017-01-12</td>\n",
       "      <td>Clean Well Foaming All-Natural Antibacterial L...</td>\n",
       "      <td>None</td>\n",
       "      <td>bar soap</td>\n",
       "      <td>Toilet soap, liquid</td>\n",
       "      <td>0.734161</td>\n",
       "    </tr>\n",
       "    <tr>\n",
       "      <th>1035532</th>\n",
       "      <td>$4.40</td>\n",
       "      <td>($1.36 / OZ)</td>\n",
       "      <td>bar-soap</td>\n",
       "      <td>Austin</td>\n",
       "      <td>HEB</td>\n",
       "      <td>2017-01-12</td>\n",
       "      <td>Grandpa's Patchouli Soap with Aloe Vera, 3.25 OZ</td>\n",
       "      <td>None</td>\n",
       "      <td>bar soap</td>\n",
       "      <td>Toilet soap, liquid</td>\n",
       "      <td>0.734161</td>\n",
       "    </tr>\n",
       "    <tr>\n",
       "      <th>1035533</th>\n",
       "      <td>$5.76</td>\n",
       "      <td>($0.96 / OZ)</td>\n",
       "      <td>bar-soap</td>\n",
       "      <td>Austin</td>\n",
       "      <td>HEB</td>\n",
       "      <td>2017-01-12</td>\n",
       "      <td>Grandma's After Workout Sports Bar Soap, Spear...</td>\n",
       "      <td>None</td>\n",
       "      <td>bar soap</td>\n",
       "      <td>Toilet soap, liquid</td>\n",
       "      <td>0.734161</td>\n",
       "    </tr>\n",
       "    <tr>\n",
       "      <th>1035534</th>\n",
       "      <td>$2.00</td>\n",
       "      <td>($0.58 / OZ)</td>\n",
       "      <td>bar-soap</td>\n",
       "      <td>Austin</td>\n",
       "      <td>HEB</td>\n",
       "      <td>2017-01-12</td>\n",
       "      <td>Texas Scents Houston Texas Cedar with Lavender...</td>\n",
       "      <td>None</td>\n",
       "      <td>bar soap</td>\n",
       "      <td>Toilet soap, liquid</td>\n",
       "      <td>0.734161</td>\n",
       "    </tr>\n",
       "  </tbody>\n",
       "</table>\n",
       "<p>1035535 rows × 11 columns</p>\n",
       "</div>"
      ],
      "text/plain": [
       "          price           unit  category    city store        date  \\\n",
       "0         $8.99   ($8.99/each)   Flowers      LA  Vons  2017-01-10   \n",
       "1        $14.59  ($14.59/each)   Flowers      LA  Vons  2017-01-10   \n",
       "2         $6.79   ($6.79/each)   Flowers      LA  Vons  2017-01-10   \n",
       "3         $5.99     ($3.99/lb)   Flowers      LA  Vons  2017-01-10   \n",
       "4         $8.99   ($8.99/each)   Flowers      LA  Vons  2017-01-10   \n",
       "...         ...            ...       ...     ...   ...         ...   \n",
       "1035530  $10.00            NaN  bar-soap  Austin   HEB  2017-01-12   \n",
       "1035531   $5.90   ($0.63 / OZ)  bar-soap  Austin   HEB  2017-01-12   \n",
       "1035532   $4.40   ($1.36 / OZ)  bar-soap  Austin   HEB  2017-01-12   \n",
       "1035533   $5.76   ($0.96 / OZ)  bar-soap  Austin   HEB  2017-01-12   \n",
       "1035534   $2.00   ($0.58 / OZ)  bar-soap  Austin   HEB  2017-01-12   \n",
       "\n",
       "                                                      item  \\\n",
       "0                              Debi Lilly Hydrangea 3 Stem   \n",
       "1                          California Grown Deluxe Bouquet   \n",
       "2                                      Alstroemeria 9 Stem   \n",
       "3                    1.50 LB Cinnamon Sugar Tortilla Chips   \n",
       "4                                    Lily Stargazer 3 Stem   \n",
       "...                                                    ...   \n",
       "1035530  Pre de Provence Zodiaque Soap In Tin, Libra, EACH   \n",
       "1035531  Clean Well Foaming All-Natural Antibacterial L...   \n",
       "1035532   Grandpa's Patchouli Soap with Aloe Vera, 3.25 OZ   \n",
       "1035533  Grandma's After Workout Sports Bar Soap, Spear...   \n",
       "1035534  Texas Scents Houston Texas Cedar with Lavender...   \n",
       "\n",
       "                       size cat_clean            Coicop Cat  Conf Cat  \n",
       "0        colors may varyrrn   Flowers    Plants and flowers  0.861174  \n",
       "1           colors may vary   Flowers    Plants and flowers  0.861174  \n",
       "2           colors may vary   Flowers    Plants and flowers  0.861174  \n",
       "3                      None   Flowers    Plants and flowers  0.861174  \n",
       "4           colors may vary   Flowers    Plants and flowers  0.861174  \n",
       "...                     ...       ...                   ...       ...  \n",
       "1035530                None  bar soap  Toilet soap, liquid   0.734161  \n",
       "1035531                None  bar soap  Toilet soap, liquid   0.734161  \n",
       "1035532                None  bar soap  Toilet soap, liquid   0.734161  \n",
       "1035533                None  bar soap  Toilet soap, liquid   0.734161  \n",
       "1035534                None  bar soap  Toilet soap, liquid   0.734161  \n",
       "\n",
       "[1035535 rows x 11 columns]"
      ]
     },
     "execution_count": 87,
     "metadata": {},
     "output_type": "execute_result"
    }
   ],
   "source": [
    "results_cat"
   ]
  },
  {
   "cell_type": "markdown",
   "metadata": {},
   "source": [
    "## Remove dollar sign and other characters from prices"
   ]
  },
  {
   "cell_type": "code",
   "execution_count": 88,
   "metadata": {},
   "outputs": [],
   "source": [
    "prices = [re.sub('[a-z]*\\s*\\$*\\/*,*', '', item) for item in results_cat.price]"
   ]
  },
  {
   "cell_type": "code",
   "execution_count": 89,
   "metadata": {},
   "outputs": [],
   "source": [
    "results_cat.price = prices"
   ]
  },
  {
   "cell_type": "code",
   "execution_count": 90,
   "metadata": {},
   "outputs": [],
   "source": [
    "prices = [re.sub('[a-z]*\\s*\\$*\\/*,*', '', item) for item in results.price]"
   ]
  },
  {
   "cell_type": "code",
   "execution_count": 91,
   "metadata": {},
   "outputs": [],
   "source": [
    "results.price = prices"
   ]
  },
  {
   "cell_type": "markdown",
   "metadata": {},
   "source": [
    "## Use COICOP level 4 categories in all data"
   ]
  },
  {
   "cell_type": "code",
   "execution_count": 92,
   "metadata": {},
   "outputs": [
    {
     "name": "stderr",
     "output_type": "stream",
     "text": [
      "/home/luigi/Documents/venv/nlp/lib/python3.6/site-packages/ipykernel_launcher.py:1: SettingWithCopyWarning: \n",
      "A value is trying to be set on a copy of a slice from a DataFrame.\n",
      "Try using .loc[row_indexer,col_indexer] = value instead\n",
      "\n",
      "See the caveats in the documentation: https://pandas.pydata.org/pandas-docs/stable/user_guide/indexing.html#returning-a-view-versus-a-copy\n",
      "  \"\"\"Entry point for launching an IPython kernel.\n"
     ]
    }
   ],
   "source": [
    "coicop4[\"cat\"] = [re.sub(r'\\([^)]*\\)', '', cat) for cat in coicop4[\"Description\"]]"
   ]
  },
  {
   "cell_type": "code",
   "execution_count": 93,
   "metadata": {},
   "outputs": [
    {
     "data": {
      "text/plain": [
       "Level          0\n",
       "Code           0\n",
       "Description    0\n",
       "cat            0\n",
       "dtype: int64"
      ]
     },
     "execution_count": 93,
     "metadata": {},
     "output_type": "execute_result"
    }
   ],
   "source": [
    "coicop4.isna().sum()"
   ]
  },
  {
   "cell_type": "code",
   "execution_count": 94,
   "metadata": {},
   "outputs": [
    {
     "data": {
      "text/html": [
       "<div>\n",
       "<style scoped>\n",
       "    .dataframe tbody tr th:only-of-type {\n",
       "        vertical-align: middle;\n",
       "    }\n",
       "\n",
       "    .dataframe tbody tr th {\n",
       "        vertical-align: top;\n",
       "    }\n",
       "\n",
       "    .dataframe thead th {\n",
       "        text-align: right;\n",
       "    }\n",
       "</style>\n",
       "<table border=\"1\" class=\"dataframe\">\n",
       "  <thead>\n",
       "    <tr style=\"text-align: right;\">\n",
       "      <th></th>\n",
       "      <th>Level</th>\n",
       "      <th>Code</th>\n",
       "      <th>Description</th>\n",
       "      <th>cat</th>\n",
       "    </tr>\n",
       "  </thead>\n",
       "  <tbody>\n",
       "    <tr>\n",
       "      <th>3</th>\n",
       "      <td>4</td>\n",
       "      <td>CP01111</td>\n",
       "      <td>Rice</td>\n",
       "      <td>Rice</td>\n",
       "    </tr>\n",
       "    <tr>\n",
       "      <th>5</th>\n",
       "      <td>4</td>\n",
       "      <td>CP01112</td>\n",
       "      <td>Flours and other cereals</td>\n",
       "      <td>Flours and other cereals</td>\n",
       "    </tr>\n",
       "    <tr>\n",
       "      <th>8</th>\n",
       "      <td>4</td>\n",
       "      <td>CP01113</td>\n",
       "      <td>Bread</td>\n",
       "      <td>Bread</td>\n",
       "    </tr>\n",
       "    <tr>\n",
       "      <th>10</th>\n",
       "      <td>4</td>\n",
       "      <td>CP01114</td>\n",
       "      <td>Other bakery products</td>\n",
       "      <td>Other bakery products</td>\n",
       "    </tr>\n",
       "    <tr>\n",
       "      <th>11</th>\n",
       "      <td>4</td>\n",
       "      <td>CP01115</td>\n",
       "      <td>Pizza and quiche</td>\n",
       "      <td>Pizza and quiche</td>\n",
       "    </tr>\n",
       "  </tbody>\n",
       "</table>\n",
       "</div>"
      ],
      "text/plain": [
       "    Level     Code               Description                       cat\n",
       "3       4  CP01111                      Rice                      Rice\n",
       "5       4  CP01112  Flours and other cereals  Flours and other cereals\n",
       "8       4  CP01113                     Bread                     Bread\n",
       "10      4  CP01114     Other bakery products     Other bakery products\n",
       "11      4  CP01115          Pizza and quiche          Pizza and quiche"
      ]
     },
     "execution_count": 94,
     "metadata": {},
     "output_type": "execute_result"
    }
   ],
   "source": [
    "coicop4.head()"
   ]
  },
  {
   "cell_type": "code",
   "execution_count": 95,
   "metadata": {},
   "outputs": [
    {
     "name": "stderr",
     "output_type": "stream",
     "text": [
      "/home/luigi/Documents/venv/nlp/lib/python3.6/site-packages/ipykernel_launcher.py:1: SettingWithCopyWarning: \n",
      "A value is trying to be set on a copy of a slice from a DataFrame.\n",
      "Try using .loc[row_indexer,col_indexer] = value instead\n",
      "\n",
      "See the caveats in the documentation: https://pandas.pydata.org/pandas-docs/stable/user_guide/indexing.html#returning-a-view-versus-a-copy\n",
      "  \"\"\"Entry point for launching an IPython kernel.\n"
     ]
    }
   ],
   "source": [
    "coicop45[\"cat\"] = [re.sub(r'\\([^)]*\\)', '', cat) for cat in coicop45[\"Description\"]]"
   ]
  },
  {
   "cell_type": "code",
   "execution_count": 96,
   "metadata": {},
   "outputs": [
    {
     "data": {
      "text/plain": [
       "Level          0\n",
       "Code           0\n",
       "Description    0\n",
       "cat            0\n",
       "dtype: int64"
      ]
     },
     "execution_count": 96,
     "metadata": {},
     "output_type": "execute_result"
    }
   ],
   "source": [
    "coicop45.isna().sum()"
   ]
  },
  {
   "cell_type": "code",
   "execution_count": 97,
   "metadata": {},
   "outputs": [
    {
     "data": {
      "text/html": [
       "<div>\n",
       "<style scoped>\n",
       "    .dataframe tbody tr th:only-of-type {\n",
       "        vertical-align: middle;\n",
       "    }\n",
       "\n",
       "    .dataframe tbody tr th {\n",
       "        vertical-align: top;\n",
       "    }\n",
       "\n",
       "    .dataframe thead th {\n",
       "        text-align: right;\n",
       "    }\n",
       "</style>\n",
       "<table border=\"1\" class=\"dataframe\">\n",
       "  <thead>\n",
       "    <tr style=\"text-align: right;\">\n",
       "      <th></th>\n",
       "      <th>Level</th>\n",
       "      <th>Code</th>\n",
       "      <th>Description</th>\n",
       "      <th>cat</th>\n",
       "    </tr>\n",
       "  </thead>\n",
       "  <tbody>\n",
       "    <tr>\n",
       "      <th>3</th>\n",
       "      <td>4</td>\n",
       "      <td>CP01111</td>\n",
       "      <td>Rice</td>\n",
       "      <td>Rice</td>\n",
       "    </tr>\n",
       "    <tr>\n",
       "      <th>4</th>\n",
       "      <td>5</td>\n",
       "      <td>CP01111A</td>\n",
       "      <td>Long-grain rice (1 kg)</td>\n",
       "      <td>Long-grain rice</td>\n",
       "    </tr>\n",
       "    <tr>\n",
       "      <th>5</th>\n",
       "      <td>4</td>\n",
       "      <td>CP01112</td>\n",
       "      <td>Flours and other cereals</td>\n",
       "      <td>Flours and other cereals</td>\n",
       "    </tr>\n",
       "    <tr>\n",
       "      <th>6</th>\n",
       "      <td>5</td>\n",
       "      <td>CP01112A</td>\n",
       "      <td>Wheat flour (1 kg)</td>\n",
       "      <td>Wheat flour</td>\n",
       "    </tr>\n",
       "    <tr>\n",
       "      <th>7</th>\n",
       "      <td>5</td>\n",
       "      <td>CP01112B</td>\n",
       "      <td>Cornflakes (1 kg)</td>\n",
       "      <td>Cornflakes</td>\n",
       "    </tr>\n",
       "  </tbody>\n",
       "</table>\n",
       "</div>"
      ],
      "text/plain": [
       "   Level      Code               Description                       cat\n",
       "3      4   CP01111                      Rice                      Rice\n",
       "4      5  CP01111A    Long-grain rice (1 kg)          Long-grain rice \n",
       "5      4   CP01112  Flours and other cereals  Flours and other cereals\n",
       "6      5  CP01112A        Wheat flour (1 kg)              Wheat flour \n",
       "7      5  CP01112B         Cornflakes (1 kg)               Cornflakes "
      ]
     },
     "execution_count": 97,
     "metadata": {},
     "output_type": "execute_result"
    }
   ],
   "source": [
    "coicop45.head(5)"
   ]
  },
  {
   "cell_type": "code",
   "execution_count": 98,
   "metadata": {},
   "outputs": [
    {
     "name": "stderr",
     "output_type": "stream",
     "text": [
      "/home/luigi/Documents/venv/nlp/lib/python3.6/site-packages/ipykernel_launcher.py:1: SettingWithCopyWarning: \n",
      "A value is trying to be set on a copy of a slice from a DataFrame.\n",
      "Try using .loc[row_indexer,col_indexer] = value instead\n",
      "\n",
      "See the caveats in the documentation: https://pandas.pydata.org/pandas-docs/stable/user_guide/indexing.html#returning-a-view-versus-a-copy\n",
      "  \"\"\"Entry point for launching an IPython kernel.\n"
     ]
    }
   ],
   "source": [
    "coicop45[\"codeL4\"] = [re.sub('\\D', '', cat) for cat in coicop45[\"Code\"]]"
   ]
  },
  {
   "cell_type": "code",
   "execution_count": 99,
   "metadata": {},
   "outputs": [
    {
     "name": "stderr",
     "output_type": "stream",
     "text": [
      "/home/luigi/Documents/venv/nlp/lib/python3.6/site-packages/ipykernel_launcher.py:1: SettingWithCopyWarning: \n",
      "A value is trying to be set on a copy of a slice from a DataFrame.\n",
      "Try using .loc[row_indexer,col_indexer] = value instead\n",
      "\n",
      "See the caveats in the documentation: https://pandas.pydata.org/pandas-docs/stable/user_guide/indexing.html#returning-a-view-versus-a-copy\n",
      "  \"\"\"Entry point for launching an IPython kernel.\n"
     ]
    }
   ],
   "source": [
    "coicop45[\"codeL4\"] = \"CP\" + coicop45[\"codeL4\"].astype(str)"
   ]
  },
  {
   "cell_type": "code",
   "execution_count": 100,
   "metadata": {},
   "outputs": [],
   "source": [
    "l4_table = coicop45.merge(coicop4, how = \"left\", left_on = \"codeL4\", right_on = \"Code\", suffixes=('_4-5', '_4'))"
   ]
  },
  {
   "cell_type": "code",
   "execution_count": 101,
   "metadata": {},
   "outputs": [
    {
     "data": {
      "text/html": [
       "<div>\n",
       "<style scoped>\n",
       "    .dataframe tbody tr th:only-of-type {\n",
       "        vertical-align: middle;\n",
       "    }\n",
       "\n",
       "    .dataframe tbody tr th {\n",
       "        vertical-align: top;\n",
       "    }\n",
       "\n",
       "    .dataframe thead th {\n",
       "        text-align: right;\n",
       "    }\n",
       "</style>\n",
       "<table border=\"1\" class=\"dataframe\">\n",
       "  <thead>\n",
       "    <tr style=\"text-align: right;\">\n",
       "      <th></th>\n",
       "      <th>Level_4-5</th>\n",
       "      <th>Code_4-5</th>\n",
       "      <th>Description_4-5</th>\n",
       "      <th>cat_4-5</th>\n",
       "      <th>codeL4</th>\n",
       "      <th>Level_4</th>\n",
       "      <th>Code_4</th>\n",
       "      <th>Description_4</th>\n",
       "      <th>cat_4</th>\n",
       "    </tr>\n",
       "  </thead>\n",
       "  <tbody>\n",
       "    <tr>\n",
       "      <th>0</th>\n",
       "      <td>4</td>\n",
       "      <td>CP01111</td>\n",
       "      <td>Rice</td>\n",
       "      <td>Rice</td>\n",
       "      <td>CP01111</td>\n",
       "      <td>4</td>\n",
       "      <td>CP01111</td>\n",
       "      <td>Rice</td>\n",
       "      <td>Rice</td>\n",
       "    </tr>\n",
       "    <tr>\n",
       "      <th>1</th>\n",
       "      <td>5</td>\n",
       "      <td>CP01111A</td>\n",
       "      <td>Long-grain rice (1 kg)</td>\n",
       "      <td>Long-grain rice</td>\n",
       "      <td>CP01111</td>\n",
       "      <td>4</td>\n",
       "      <td>CP01111</td>\n",
       "      <td>Rice</td>\n",
       "      <td>Rice</td>\n",
       "    </tr>\n",
       "    <tr>\n",
       "      <th>2</th>\n",
       "      <td>4</td>\n",
       "      <td>CP01112</td>\n",
       "      <td>Flours and other cereals</td>\n",
       "      <td>Flours and other cereals</td>\n",
       "      <td>CP01112</td>\n",
       "      <td>4</td>\n",
       "      <td>CP01112</td>\n",
       "      <td>Flours and other cereals</td>\n",
       "      <td>Flours and other cereals</td>\n",
       "    </tr>\n",
       "    <tr>\n",
       "      <th>3</th>\n",
       "      <td>5</td>\n",
       "      <td>CP01112A</td>\n",
       "      <td>Wheat flour (1 kg)</td>\n",
       "      <td>Wheat flour</td>\n",
       "      <td>CP01112</td>\n",
       "      <td>4</td>\n",
       "      <td>CP01112</td>\n",
       "      <td>Flours and other cereals</td>\n",
       "      <td>Flours and other cereals</td>\n",
       "    </tr>\n",
       "    <tr>\n",
       "      <th>4</th>\n",
       "      <td>5</td>\n",
       "      <td>CP01112B</td>\n",
       "      <td>Cornflakes (1 kg)</td>\n",
       "      <td>Cornflakes</td>\n",
       "      <td>CP01112</td>\n",
       "      <td>4</td>\n",
       "      <td>CP01112</td>\n",
       "      <td>Flours and other cereals</td>\n",
       "      <td>Flours and other cereals</td>\n",
       "    </tr>\n",
       "  </tbody>\n",
       "</table>\n",
       "</div>"
      ],
      "text/plain": [
       "   Level_4-5  Code_4-5           Description_4-5                   cat_4-5  \\\n",
       "0          4   CP01111                      Rice                      Rice   \n",
       "1          5  CP01111A    Long-grain rice (1 kg)          Long-grain rice    \n",
       "2          4   CP01112  Flours and other cereals  Flours and other cereals   \n",
       "3          5  CP01112A        Wheat flour (1 kg)              Wheat flour    \n",
       "4          5  CP01112B         Cornflakes (1 kg)               Cornflakes    \n",
       "\n",
       "    codeL4  Level_4   Code_4             Description_4  \\\n",
       "0  CP01111        4  CP01111                      Rice   \n",
       "1  CP01111        4  CP01111                      Rice   \n",
       "2  CP01112        4  CP01112  Flours and other cereals   \n",
       "3  CP01112        4  CP01112  Flours and other cereals   \n",
       "4  CP01112        4  CP01112  Flours and other cereals   \n",
       "\n",
       "                      cat_4  \n",
       "0                      Rice  \n",
       "1                      Rice  \n",
       "2  Flours and other cereals  \n",
       "3  Flours and other cereals  \n",
       "4  Flours and other cereals  "
      ]
     },
     "execution_count": 101,
     "metadata": {},
     "output_type": "execute_result"
    }
   ],
   "source": [
    "l4_table.head(5)"
   ]
  },
  {
   "cell_type": "code",
   "execution_count": 102,
   "metadata": {},
   "outputs": [],
   "source": [
    "l4_table.drop(columns=[\"Description_4-5\",\"codeL4\",\"Level_4\",\"Code_4\",\"Description_4\",\"Code_4-5\",\"Level_4-5\"], inplace=True)"
   ]
  },
  {
   "cell_type": "code",
   "execution_count": 103,
   "metadata": {},
   "outputs": [
    {
     "data": {
      "text/plain": [
       "cat_4-5    0\n",
       "cat_4      0\n",
       "dtype: int64"
      ]
     },
     "execution_count": 103,
     "metadata": {},
     "output_type": "execute_result"
    }
   ],
   "source": [
    "l4_table.isna().sum()"
   ]
  },
  {
   "cell_type": "code",
   "execution_count": 104,
   "metadata": {},
   "outputs": [
    {
     "data": {
      "text/html": [
       "<div>\n",
       "<style scoped>\n",
       "    .dataframe tbody tr th:only-of-type {\n",
       "        vertical-align: middle;\n",
       "    }\n",
       "\n",
       "    .dataframe tbody tr th {\n",
       "        vertical-align: top;\n",
       "    }\n",
       "\n",
       "    .dataframe thead th {\n",
       "        text-align: right;\n",
       "    }\n",
       "</style>\n",
       "<table border=\"1\" class=\"dataframe\">\n",
       "  <thead>\n",
       "    <tr style=\"text-align: right;\">\n",
       "      <th></th>\n",
       "      <th>cat_4-5</th>\n",
       "      <th>cat_4</th>\n",
       "    </tr>\n",
       "  </thead>\n",
       "  <tbody>\n",
       "    <tr>\n",
       "      <th>0</th>\n",
       "      <td>Rice</td>\n",
       "      <td>Rice</td>\n",
       "    </tr>\n",
       "    <tr>\n",
       "      <th>1</th>\n",
       "      <td>Long-grain rice</td>\n",
       "      <td>Rice</td>\n",
       "    </tr>\n",
       "    <tr>\n",
       "      <th>2</th>\n",
       "      <td>Flours and other cereals</td>\n",
       "      <td>Flours and other cereals</td>\n",
       "    </tr>\n",
       "    <tr>\n",
       "      <th>3</th>\n",
       "      <td>Wheat flour</td>\n",
       "      <td>Flours and other cereals</td>\n",
       "    </tr>\n",
       "    <tr>\n",
       "      <th>4</th>\n",
       "      <td>Cornflakes</td>\n",
       "      <td>Flours and other cereals</td>\n",
       "    </tr>\n",
       "  </tbody>\n",
       "</table>\n",
       "</div>"
      ],
      "text/plain": [
       "                    cat_4-5                     cat_4\n",
       "0                      Rice                      Rice\n",
       "1          Long-grain rice                       Rice\n",
       "2  Flours and other cereals  Flours and other cereals\n",
       "3              Wheat flour   Flours and other cereals\n",
       "4               Cornflakes   Flours and other cereals"
      ]
     },
     "execution_count": 104,
     "metadata": {},
     "output_type": "execute_result"
    }
   ],
   "source": [
    "l4_table.head()"
   ]
  },
  {
   "cell_type": "code",
   "execution_count": 105,
   "metadata": {},
   "outputs": [],
   "source": [
    "results_cat4 = results_cat.merge(l4_table, how = \"left\", left_on = \"Coicop Cat\", right_on = \"cat_4-5\")"
   ]
  },
  {
   "cell_type": "code",
   "execution_count": 106,
   "metadata": {},
   "outputs": [
    {
     "data": {
      "text/html": [
       "<div>\n",
       "<style scoped>\n",
       "    .dataframe tbody tr th:only-of-type {\n",
       "        vertical-align: middle;\n",
       "    }\n",
       "\n",
       "    .dataframe tbody tr th {\n",
       "        vertical-align: top;\n",
       "    }\n",
       "\n",
       "    .dataframe thead th {\n",
       "        text-align: right;\n",
       "    }\n",
       "</style>\n",
       "<table border=\"1\" class=\"dataframe\">\n",
       "  <thead>\n",
       "    <tr style=\"text-align: right;\">\n",
       "      <th></th>\n",
       "      <th>price</th>\n",
       "      <th>unit</th>\n",
       "      <th>category</th>\n",
       "      <th>city</th>\n",
       "      <th>store</th>\n",
       "      <th>date</th>\n",
       "      <th>item</th>\n",
       "      <th>size</th>\n",
       "      <th>cat_clean</th>\n",
       "      <th>Coicop Cat</th>\n",
       "      <th>Conf Cat</th>\n",
       "      <th>cat_4-5</th>\n",
       "      <th>cat_4</th>\n",
       "    </tr>\n",
       "  </thead>\n",
       "  <tbody>\n",
       "    <tr>\n",
       "      <th>0</th>\n",
       "      <td>8.99</td>\n",
       "      <td>($8.99/each)</td>\n",
       "      <td>Flowers</td>\n",
       "      <td>LA</td>\n",
       "      <td>Vons</td>\n",
       "      <td>2017-01-10</td>\n",
       "      <td>Debi Lilly Hydrangea 3 Stem</td>\n",
       "      <td>colors may varyrrn</td>\n",
       "      <td>Flowers</td>\n",
       "      <td>Plants and flowers</td>\n",
       "      <td>0.861174</td>\n",
       "      <td>Plants and flowers</td>\n",
       "      <td>Plants and flowers</td>\n",
       "    </tr>\n",
       "    <tr>\n",
       "      <th>1</th>\n",
       "      <td>14.59</td>\n",
       "      <td>($14.59/each)</td>\n",
       "      <td>Flowers</td>\n",
       "      <td>LA</td>\n",
       "      <td>Vons</td>\n",
       "      <td>2017-01-10</td>\n",
       "      <td>California Grown Deluxe Bouquet</td>\n",
       "      <td>colors may vary</td>\n",
       "      <td>Flowers</td>\n",
       "      <td>Plants and flowers</td>\n",
       "      <td>0.861174</td>\n",
       "      <td>Plants and flowers</td>\n",
       "      <td>Plants and flowers</td>\n",
       "    </tr>\n",
       "    <tr>\n",
       "      <th>2</th>\n",
       "      <td>6.79</td>\n",
       "      <td>($6.79/each)</td>\n",
       "      <td>Flowers</td>\n",
       "      <td>LA</td>\n",
       "      <td>Vons</td>\n",
       "      <td>2017-01-10</td>\n",
       "      <td>Alstroemeria 9 Stem</td>\n",
       "      <td>colors may vary</td>\n",
       "      <td>Flowers</td>\n",
       "      <td>Plants and flowers</td>\n",
       "      <td>0.861174</td>\n",
       "      <td>Plants and flowers</td>\n",
       "      <td>Plants and flowers</td>\n",
       "    </tr>\n",
       "    <tr>\n",
       "      <th>3</th>\n",
       "      <td>5.99</td>\n",
       "      <td>($3.99/lb)</td>\n",
       "      <td>Flowers</td>\n",
       "      <td>LA</td>\n",
       "      <td>Vons</td>\n",
       "      <td>2017-01-10</td>\n",
       "      <td>1.50 LB Cinnamon Sugar Tortilla Chips</td>\n",
       "      <td>None</td>\n",
       "      <td>Flowers</td>\n",
       "      <td>Plants and flowers</td>\n",
       "      <td>0.861174</td>\n",
       "      <td>Plants and flowers</td>\n",
       "      <td>Plants and flowers</td>\n",
       "    </tr>\n",
       "    <tr>\n",
       "      <th>4</th>\n",
       "      <td>8.99</td>\n",
       "      <td>($8.99/each)</td>\n",
       "      <td>Flowers</td>\n",
       "      <td>LA</td>\n",
       "      <td>Vons</td>\n",
       "      <td>2017-01-10</td>\n",
       "      <td>Lily Stargazer 3 Stem</td>\n",
       "      <td>colors may vary</td>\n",
       "      <td>Flowers</td>\n",
       "      <td>Plants and flowers</td>\n",
       "      <td>0.861174</td>\n",
       "      <td>Plants and flowers</td>\n",
       "      <td>Plants and flowers</td>\n",
       "    </tr>\n",
       "  </tbody>\n",
       "</table>\n",
       "</div>"
      ],
      "text/plain": [
       "   price           unit category city store        date  \\\n",
       "0   8.99   ($8.99/each)  Flowers   LA  Vons  2017-01-10   \n",
       "1  14.59  ($14.59/each)  Flowers   LA  Vons  2017-01-10   \n",
       "2   6.79   ($6.79/each)  Flowers   LA  Vons  2017-01-10   \n",
       "3   5.99     ($3.99/lb)  Flowers   LA  Vons  2017-01-10   \n",
       "4   8.99   ($8.99/each)  Flowers   LA  Vons  2017-01-10   \n",
       "\n",
       "                                    item                size cat_clean  \\\n",
       "0            Debi Lilly Hydrangea 3 Stem  colors may varyrrn   Flowers   \n",
       "1        California Grown Deluxe Bouquet     colors may vary   Flowers   \n",
       "2                    Alstroemeria 9 Stem     colors may vary   Flowers   \n",
       "3  1.50 LB Cinnamon Sugar Tortilla Chips                None   Flowers   \n",
       "4                  Lily Stargazer 3 Stem     colors may vary   Flowers   \n",
       "\n",
       "           Coicop Cat  Conf Cat             cat_4-5               cat_4  \n",
       "0  Plants and flowers  0.861174  Plants and flowers  Plants and flowers  \n",
       "1  Plants and flowers  0.861174  Plants and flowers  Plants and flowers  \n",
       "2  Plants and flowers  0.861174  Plants and flowers  Plants and flowers  \n",
       "3  Plants and flowers  0.861174  Plants and flowers  Plants and flowers  \n",
       "4  Plants and flowers  0.861174  Plants and flowers  Plants and flowers  "
      ]
     },
     "execution_count": 106,
     "metadata": {},
     "output_type": "execute_result"
    }
   ],
   "source": [
    "results_cat4.head(5)"
   ]
  },
  {
   "cell_type": "code",
   "execution_count": 107,
   "metadata": {},
   "outputs": [
    {
     "data": {
      "text/plain": [
       "price              0\n",
       "unit          140924\n",
       "category           0\n",
       "city               0\n",
       "store              0\n",
       "date               0\n",
       "item               0\n",
       "size          385273\n",
       "cat_clean          0\n",
       "Coicop Cat       870\n",
       "Conf Cat         870\n",
       "cat_4-5          870\n",
       "cat_4            870\n",
       "dtype: int64"
      ]
     },
     "execution_count": 107,
     "metadata": {},
     "output_type": "execute_result"
    }
   ],
   "source": [
    "results_cat4.isna().sum()"
   ]
  },
  {
   "cell_type": "code",
   "execution_count": 108,
   "metadata": {},
   "outputs": [],
   "source": [
    "results_cat4.drop(columns=[\"cat_4-5\"], inplace = True)"
   ]
  },
  {
   "cell_type": "code",
   "execution_count": 109,
   "metadata": {},
   "outputs": [],
   "source": [
    "results4 = results.merge(l4_table, how = \"left\", left_on = \"Coicop Prod\", right_on = \"cat_4-5\", suffixes=(\"\",\"_prod\")).merge(\n",
    "    l4_table, how = \"left\", left_on = \"Coicop Cat\", right_on = \"cat_4-5\", suffixes=(\"\",\"_cat\"))"
   ]
  },
  {
   "cell_type": "code",
   "execution_count": 110,
   "metadata": {},
   "outputs": [
    {
     "data": {
      "text/html": [
       "<div>\n",
       "<style scoped>\n",
       "    .dataframe tbody tr th:only-of-type {\n",
       "        vertical-align: middle;\n",
       "    }\n",
       "\n",
       "    .dataframe tbody tr th {\n",
       "        vertical-align: top;\n",
       "    }\n",
       "\n",
       "    .dataframe thead th {\n",
       "        text-align: right;\n",
       "    }\n",
       "</style>\n",
       "<table border=\"1\" class=\"dataframe\">\n",
       "  <thead>\n",
       "    <tr style=\"text-align: right;\">\n",
       "      <th></th>\n",
       "      <th>price</th>\n",
       "      <th>unit</th>\n",
       "      <th>category</th>\n",
       "      <th>city</th>\n",
       "      <th>store</th>\n",
       "      <th>date</th>\n",
       "      <th>item</th>\n",
       "      <th>size</th>\n",
       "      <th>cat_clean</th>\n",
       "      <th>Coicop Cat</th>\n",
       "      <th>Conf Cat</th>\n",
       "      <th>Coicop Prod</th>\n",
       "      <th>Conf Prod</th>\n",
       "      <th>cat_4-5</th>\n",
       "      <th>cat_4</th>\n",
       "      <th>cat_4-5_cat</th>\n",
       "      <th>cat_4_cat</th>\n",
       "    </tr>\n",
       "  </thead>\n",
       "  <tbody>\n",
       "    <tr>\n",
       "      <th>0</th>\n",
       "      <td>8.99</td>\n",
       "      <td>($8.99/each)</td>\n",
       "      <td>Flowers</td>\n",
       "      <td>LA</td>\n",
       "      <td>Vons</td>\n",
       "      <td>2017-01-10</td>\n",
       "      <td>Debi Lilly Hydrangea 3 Stem</td>\n",
       "      <td>colors may varyrrn</td>\n",
       "      <td>Flowers</td>\n",
       "      <td>Plants and flowers</td>\n",
       "      <td>0.861174</td>\n",
       "      <td>Leaf and stem vegetables</td>\n",
       "      <td>0.533939</td>\n",
       "      <td>Leaf and stem vegetables</td>\n",
       "      <td>Leaf and stem vegetables</td>\n",
       "      <td>Plants and flowers</td>\n",
       "      <td>Plants and flowers</td>\n",
       "    </tr>\n",
       "    <tr>\n",
       "      <th>1</th>\n",
       "      <td>14.59</td>\n",
       "      <td>($14.59/each)</td>\n",
       "      <td>Flowers</td>\n",
       "      <td>LA</td>\n",
       "      <td>Vons</td>\n",
       "      <td>2017-01-10</td>\n",
       "      <td>California Grown Deluxe Bouquet</td>\n",
       "      <td>colors may vary</td>\n",
       "      <td>Flowers</td>\n",
       "      <td>Plants and flowers</td>\n",
       "      <td>0.861174</td>\n",
       "      <td>Vegetable grown for their fruit</td>\n",
       "      <td>0.610329</td>\n",
       "      <td>Vegetable grown for their fruit</td>\n",
       "      <td>Vegetable grown for their fruit</td>\n",
       "      <td>Plants and flowers</td>\n",
       "      <td>Plants and flowers</td>\n",
       "    </tr>\n",
       "    <tr>\n",
       "      <th>2</th>\n",
       "      <td>6.79</td>\n",
       "      <td>($6.79/each)</td>\n",
       "      <td>Flowers</td>\n",
       "      <td>LA</td>\n",
       "      <td>Vons</td>\n",
       "      <td>2017-01-10</td>\n",
       "      <td>Alstroemeria 9 Stem</td>\n",
       "      <td>colors may vary</td>\n",
       "      <td>Flowers</td>\n",
       "      <td>Plants and flowers</td>\n",
       "      <td>0.861174</td>\n",
       "      <td>Leaf and stem vegetables</td>\n",
       "      <td>0.506795</td>\n",
       "      <td>Leaf and stem vegetables</td>\n",
       "      <td>Leaf and stem vegetables</td>\n",
       "      <td>Plants and flowers</td>\n",
       "      <td>Plants and flowers</td>\n",
       "    </tr>\n",
       "    <tr>\n",
       "      <th>3</th>\n",
       "      <td>5.99</td>\n",
       "      <td>($3.99/lb)</td>\n",
       "      <td>Flowers</td>\n",
       "      <td>LA</td>\n",
       "      <td>Vons</td>\n",
       "      <td>2017-01-10</td>\n",
       "      <td>1.50 LB Cinnamon Sugar Tortilla Chips</td>\n",
       "      <td>None</td>\n",
       "      <td>Flowers</td>\n",
       "      <td>Plants and flowers</td>\n",
       "      <td>0.861174</td>\n",
       "      <td>Butter</td>\n",
       "      <td>0.764394</td>\n",
       "      <td>Butter</td>\n",
       "      <td>Butter</td>\n",
       "      <td>Plants and flowers</td>\n",
       "      <td>Plants and flowers</td>\n",
       "    </tr>\n",
       "    <tr>\n",
       "      <th>4</th>\n",
       "      <td>8.99</td>\n",
       "      <td>($8.99/each)</td>\n",
       "      <td>Flowers</td>\n",
       "      <td>LA</td>\n",
       "      <td>Vons</td>\n",
       "      <td>2017-01-10</td>\n",
       "      <td>Lily Stargazer 3 Stem</td>\n",
       "      <td>colors may vary</td>\n",
       "      <td>Flowers</td>\n",
       "      <td>Plants and flowers</td>\n",
       "      <td>0.861174</td>\n",
       "      <td>Leaf and stem vegetables</td>\n",
       "      <td>0.608580</td>\n",
       "      <td>Leaf and stem vegetables</td>\n",
       "      <td>Leaf and stem vegetables</td>\n",
       "      <td>Plants and flowers</td>\n",
       "      <td>Plants and flowers</td>\n",
       "    </tr>\n",
       "  </tbody>\n",
       "</table>\n",
       "</div>"
      ],
      "text/plain": [
       "   price           unit category city store        date  \\\n",
       "0   8.99   ($8.99/each)  Flowers   LA  Vons  2017-01-10   \n",
       "1  14.59  ($14.59/each)  Flowers   LA  Vons  2017-01-10   \n",
       "2   6.79   ($6.79/each)  Flowers   LA  Vons  2017-01-10   \n",
       "3   5.99     ($3.99/lb)  Flowers   LA  Vons  2017-01-10   \n",
       "4   8.99   ($8.99/each)  Flowers   LA  Vons  2017-01-10   \n",
       "\n",
       "                                    item                size cat_clean  \\\n",
       "0            Debi Lilly Hydrangea 3 Stem  colors may varyrrn   Flowers   \n",
       "1        California Grown Deluxe Bouquet     colors may vary   Flowers   \n",
       "2                    Alstroemeria 9 Stem     colors may vary   Flowers   \n",
       "3  1.50 LB Cinnamon Sugar Tortilla Chips                None   Flowers   \n",
       "4                  Lily Stargazer 3 Stem     colors may vary   Flowers   \n",
       "\n",
       "           Coicop Cat  Conf Cat                       Coicop Prod  Conf Prod  \\\n",
       "0  Plants and flowers  0.861174         Leaf and stem vegetables    0.533939   \n",
       "1  Plants and flowers  0.861174  Vegetable grown for their fruit    0.610329   \n",
       "2  Plants and flowers  0.861174         Leaf and stem vegetables    0.506795   \n",
       "3  Plants and flowers  0.861174                            Butter   0.764394   \n",
       "4  Plants and flowers  0.861174         Leaf and stem vegetables    0.608580   \n",
       "\n",
       "                            cat_4-5                             cat_4  \\\n",
       "0         Leaf and stem vegetables          Leaf and stem vegetables    \n",
       "1  Vegetable grown for their fruit   Vegetable grown for their fruit    \n",
       "2         Leaf and stem vegetables          Leaf and stem vegetables    \n",
       "3                            Butter                            Butter   \n",
       "4         Leaf and stem vegetables          Leaf and stem vegetables    \n",
       "\n",
       "          cat_4-5_cat           cat_4_cat  \n",
       "0  Plants and flowers  Plants and flowers  \n",
       "1  Plants and flowers  Plants and flowers  \n",
       "2  Plants and flowers  Plants and flowers  \n",
       "3  Plants and flowers  Plants and flowers  \n",
       "4  Plants and flowers  Plants and flowers  "
      ]
     },
     "execution_count": 110,
     "metadata": {},
     "output_type": "execute_result"
    }
   ],
   "source": [
    "results4.head()"
   ]
  },
  {
   "cell_type": "code",
   "execution_count": 111,
   "metadata": {},
   "outputs": [],
   "source": [
    "results4.drop(columns=[\"cat_4-5\", \"cat_4-5_cat\"], inplace = True)"
   ]
  },
  {
   "cell_type": "markdown",
   "metadata": {},
   "source": [
    "## Export the data as CSV"
   ]
  },
  {
   "cell_type": "code",
   "execution_count": 112,
   "metadata": {},
   "outputs": [],
   "source": [
    "results_cat4.to_csv(\"results_cat_clean.csv\")"
   ]
  },
  {
   "cell_type": "code",
   "execution_count": 113,
   "metadata": {},
   "outputs": [],
   "source": [
    "results4.to_csv(\"results_clean.csv\")"
   ]
  },
  {
   "cell_type": "code",
   "execution_count": 114,
   "metadata": {},
   "outputs": [],
   "source": [
    "data = pd.read_csv(\"results_cat_clean.csv\")"
   ]
  },
  {
   "cell_type": "code",
   "execution_count": 115,
   "metadata": {},
   "outputs": [
    {
     "data": {
      "text/html": [
       "<div>\n",
       "<style scoped>\n",
       "    .dataframe tbody tr th:only-of-type {\n",
       "        vertical-align: middle;\n",
       "    }\n",
       "\n",
       "    .dataframe tbody tr th {\n",
       "        vertical-align: top;\n",
       "    }\n",
       "\n",
       "    .dataframe thead th {\n",
       "        text-align: right;\n",
       "    }\n",
       "</style>\n",
       "<table border=\"1\" class=\"dataframe\">\n",
       "  <thead>\n",
       "    <tr style=\"text-align: right;\">\n",
       "      <th></th>\n",
       "      <th>Unnamed: 0</th>\n",
       "      <th>price</th>\n",
       "      <th>unit</th>\n",
       "      <th>category</th>\n",
       "      <th>city</th>\n",
       "      <th>store</th>\n",
       "      <th>date</th>\n",
       "      <th>item</th>\n",
       "      <th>size</th>\n",
       "      <th>cat_clean</th>\n",
       "      <th>Coicop Cat</th>\n",
       "      <th>Conf Cat</th>\n",
       "      <th>cat_4</th>\n",
       "    </tr>\n",
       "  </thead>\n",
       "  <tbody>\n",
       "    <tr>\n",
       "      <th>0</th>\n",
       "      <td>0</td>\n",
       "      <td>8.99</td>\n",
       "      <td>($8.99/each)</td>\n",
       "      <td>Flowers</td>\n",
       "      <td>LA</td>\n",
       "      <td>Vons</td>\n",
       "      <td>2017-01-10</td>\n",
       "      <td>Debi Lilly Hydrangea 3 Stem</td>\n",
       "      <td>colors may varyrrn</td>\n",
       "      <td>Flowers</td>\n",
       "      <td>Plants and flowers</td>\n",
       "      <td>0.861174</td>\n",
       "      <td>Plants and flowers</td>\n",
       "    </tr>\n",
       "    <tr>\n",
       "      <th>1</th>\n",
       "      <td>1</td>\n",
       "      <td>14.59</td>\n",
       "      <td>($14.59/each)</td>\n",
       "      <td>Flowers</td>\n",
       "      <td>LA</td>\n",
       "      <td>Vons</td>\n",
       "      <td>2017-01-10</td>\n",
       "      <td>California Grown Deluxe Bouquet</td>\n",
       "      <td>colors may vary</td>\n",
       "      <td>Flowers</td>\n",
       "      <td>Plants and flowers</td>\n",
       "      <td>0.861174</td>\n",
       "      <td>Plants and flowers</td>\n",
       "    </tr>\n",
       "    <tr>\n",
       "      <th>2</th>\n",
       "      <td>2</td>\n",
       "      <td>6.79</td>\n",
       "      <td>($6.79/each)</td>\n",
       "      <td>Flowers</td>\n",
       "      <td>LA</td>\n",
       "      <td>Vons</td>\n",
       "      <td>2017-01-10</td>\n",
       "      <td>Alstroemeria 9 Stem</td>\n",
       "      <td>colors may vary</td>\n",
       "      <td>Flowers</td>\n",
       "      <td>Plants and flowers</td>\n",
       "      <td>0.861174</td>\n",
       "      <td>Plants and flowers</td>\n",
       "    </tr>\n",
       "    <tr>\n",
       "      <th>3</th>\n",
       "      <td>3</td>\n",
       "      <td>5.99</td>\n",
       "      <td>($3.99/lb)</td>\n",
       "      <td>Flowers</td>\n",
       "      <td>LA</td>\n",
       "      <td>Vons</td>\n",
       "      <td>2017-01-10</td>\n",
       "      <td>1.50 LB Cinnamon Sugar Tortilla Chips</td>\n",
       "      <td>NaN</td>\n",
       "      <td>Flowers</td>\n",
       "      <td>Plants and flowers</td>\n",
       "      <td>0.861174</td>\n",
       "      <td>Plants and flowers</td>\n",
       "    </tr>\n",
       "    <tr>\n",
       "      <th>4</th>\n",
       "      <td>4</td>\n",
       "      <td>8.99</td>\n",
       "      <td>($8.99/each)</td>\n",
       "      <td>Flowers</td>\n",
       "      <td>LA</td>\n",
       "      <td>Vons</td>\n",
       "      <td>2017-01-10</td>\n",
       "      <td>Lily Stargazer 3 Stem</td>\n",
       "      <td>colors may vary</td>\n",
       "      <td>Flowers</td>\n",
       "      <td>Plants and flowers</td>\n",
       "      <td>0.861174</td>\n",
       "      <td>Plants and flowers</td>\n",
       "    </tr>\n",
       "  </tbody>\n",
       "</table>\n",
       "</div>"
      ],
      "text/plain": [
       "   Unnamed: 0  price           unit category city store        date  \\\n",
       "0           0   8.99   ($8.99/each)  Flowers   LA  Vons  2017-01-10   \n",
       "1           1  14.59  ($14.59/each)  Flowers   LA  Vons  2017-01-10   \n",
       "2           2   6.79   ($6.79/each)  Flowers   LA  Vons  2017-01-10   \n",
       "3           3   5.99     ($3.99/lb)  Flowers   LA  Vons  2017-01-10   \n",
       "4           4   8.99   ($8.99/each)  Flowers   LA  Vons  2017-01-10   \n",
       "\n",
       "                                    item                size cat_clean  \\\n",
       "0            Debi Lilly Hydrangea 3 Stem  colors may varyrrn   Flowers   \n",
       "1        California Grown Deluxe Bouquet     colors may vary   Flowers   \n",
       "2                    Alstroemeria 9 Stem     colors may vary   Flowers   \n",
       "3  1.50 LB Cinnamon Sugar Tortilla Chips                 NaN   Flowers   \n",
       "4                  Lily Stargazer 3 Stem     colors may vary   Flowers   \n",
       "\n",
       "           Coicop Cat  Conf Cat               cat_4  \n",
       "0  Plants and flowers  0.861174  Plants and flowers  \n",
       "1  Plants and flowers  0.861174  Plants and flowers  \n",
       "2  Plants and flowers  0.861174  Plants and flowers  \n",
       "3  Plants and flowers  0.861174  Plants and flowers  \n",
       "4  Plants and flowers  0.861174  Plants and flowers  "
      ]
     },
     "execution_count": 115,
     "metadata": {},
     "output_type": "execute_result"
    }
   ],
   "source": [
    "data.head()"
   ]
  },
  {
   "cell_type": "code",
   "execution_count": 121,
   "metadata": {},
   "outputs": [
    {
     "data": {
      "text/plain": [
       "array(['2017-01-10', '2017-01-11', '2017-01-12'], dtype=object)"
      ]
     },
     "execution_count": 121,
     "metadata": {},
     "output_type": "execute_result"
    }
   ],
   "source": [
    "data[\"date\"].unique()"
   ]
  },
  {
   "cell_type": "code",
   "execution_count": 122,
   "metadata": {},
   "outputs": [],
   "source": [
    "data0110 = data[data[\"date\"] == \"2017-01-10\"]\n",
    "data0111 = data[data[\"date\"] == \"2017-01-11\"]"
   ]
  },
  {
   "cell_type": "code",
   "execution_count": 123,
   "metadata": {},
   "outputs": [
    {
     "data": {
      "text/plain": [
       "(351736, 13)"
      ]
     },
     "execution_count": 123,
     "metadata": {},
     "output_type": "execute_result"
    }
   ],
   "source": [
    "data0111.shape"
   ]
  },
  {
   "cell_type": "code",
   "execution_count": 124,
   "metadata": {},
   "outputs": [
    {
     "data": {
      "text/plain": [
       "147733"
      ]
     },
     "execution_count": 124,
     "metadata": {},
     "output_type": "execute_result"
    }
   ],
   "source": [
    "len(data0111[\"item\"].unique())"
   ]
  },
  {
   "cell_type": "code",
   "execution_count": 125,
   "metadata": {},
   "outputs": [
    {
     "data": {
      "text/plain": [
       "1712"
      ]
     },
     "execution_count": 125,
     "metadata": {},
     "output_type": "execute_result"
    }
   ],
   "source": [
    "len(data0111[\"category\"].unique())"
   ]
  },
  {
   "cell_type": "code",
   "execution_count": 127,
   "metadata": {},
   "outputs": [
    {
     "data": {
      "text/plain": [
       "array(['LA', 'Seattle', 'Portland', 'Honolulu', 'SF', 'DC', 'Orlando',\n",
       "       'Phoenix', 'Austin'], dtype=object)"
      ]
     },
     "execution_count": 127,
     "metadata": {},
     "output_type": "execute_result"
    }
   ],
   "source": [
    "data0110data0111[\"city\"].unique()[\"city\"].unique()"
   ]
  },
  {
   "cell_type": "code",
   "execution_count": 126,
   "metadata": {},
   "outputs": [
    {
     "data": {
      "text/plain": [
       "array(['LV', 'Houston', 'Boise', 'Honolulu', 'Seattle', 'Orlando', 'DC',\n",
       "       'SF', 'Phoenix', 'Austin'], dtype=object)"
      ]
     },
     "execution_count": 126,
     "metadata": {},
     "output_type": "execute_result"
    }
   ],
   "source": [
    "data0111[\"city\"].unique()"
   ]
  },
  {
   "cell_type": "code",
   "execution_count": 129,
   "metadata": {},
   "outputs": [
    {
     "data": {
      "text/plain": [
       "array(['Vons', 'Randalls', 'Albertsons', 'Safeway', 'HEB'], dtype=object)"
      ]
     },
     "execution_count": 129,
     "metadata": {},
     "output_type": "execute_result"
    }
   ],
   "source": [
    "data0111[\"store\"].unique()"
   ]
  },
  {
   "cell_type": "code",
   "execution_count": 130,
   "metadata": {},
   "outputs": [
    {
     "data": {
      "text/plain": [
       "array(['Vons', 'Safeway', 'HEB'], dtype=object)"
      ]
     },
     "execution_count": 130,
     "metadata": {},
     "output_type": "execute_result"
    }
   ],
   "source": [
    "data0110[\"store\"].unique()"
   ]
  },
  {
   "cell_type": "code",
   "execution_count": 131,
   "metadata": {},
   "outputs": [],
   "source": [
    "days = [data0110, data0111]"
   ]
  },
  {
   "cell_type": "code",
   "execution_count": 132,
   "metadata": {},
   "outputs": [],
   "source": [
    "data_jan = pd.concat(days)"
   ]
  },
  {
   "cell_type": "code",
   "execution_count": 133,
   "metadata": {},
   "outputs": [],
   "source": [
    "data_jan_clean = data_jan[data_jan[\"city\"].isin(['SF', 'Seattle', 'Honolulu', 'Orlando', 'DC', 'Phoenix',\n",
    "        'Houston', 'LA', 'LV', 'Portland'])]"
   ]
  },
  {
   "cell_type": "code",
   "execution_count": 134,
   "metadata": {},
   "outputs": [
    {
     "data": {
      "text/plain": [
       "(394138, 13)"
      ]
     },
     "execution_count": 134,
     "metadata": {},
     "output_type": "execute_result"
    }
   ],
   "source": [
    "data_jan_clean.shape"
   ]
  },
  {
   "cell_type": "code",
   "execution_count": 135,
   "metadata": {},
   "outputs": [
    {
     "data": {
      "text/plain": [
       "52297"
      ]
     },
     "execution_count": 135,
     "metadata": {},
     "output_type": "execute_result"
    }
   ],
   "source": [
    "len(data_jan_clean[\"item\"].unique())"
   ]
  },
  {
   "cell_type": "code",
   "execution_count": 136,
   "metadata": {},
   "outputs": [
    {
     "data": {
      "text/plain": [
       "755"
      ]
     },
     "execution_count": 136,
     "metadata": {},
     "output_type": "execute_result"
    }
   ],
   "source": [
    "len(data_jan_clean[\"category\"].unique())"
   ]
  },
  {
   "cell_type": "code",
   "execution_count": 141,
   "metadata": {},
   "outputs": [],
   "source": [
    "data_jan_clean = data_jan_clean.sort_values(by = \"city\")"
   ]
  },
  {
   "cell_type": "code",
   "execution_count": 142,
   "metadata": {},
   "outputs": [],
   "source": [
    "data_jan_clean.to_csv(\"results_20170110.csv\")"
   ]
  },
  {
   "cell_type": "code",
   "execution_count": 143,
   "metadata": {},
   "outputs": [
    {
     "data": {
      "text/plain": [
       "array(['Safeway', 'Randalls', 'Vons'], dtype=object)"
      ]
     },
     "execution_count": 143,
     "metadata": {},
     "output_type": "execute_result"
    }
   ],
   "source": [
    "data_jan_clean[\"store\"].unique()"
   ]
  },
  {
   "cell_type": "code",
   "execution_count": 144,
   "metadata": {},
   "outputs": [
    {
     "data": {
      "text/plain": [
       "array(['DC', 'Honolulu', 'Houston', 'LA', 'LV', 'Orlando', 'Phoenix',\n",
       "       'Portland', 'SF', 'Seattle'], dtype=object)"
      ]
     },
     "execution_count": 144,
     "metadata": {},
     "output_type": "execute_result"
    }
   ],
   "source": [
    "data_jan_clean[\"city\"].unique()"
   ]
  },
  {
   "cell_type": "code",
   "execution_count": null,
   "metadata": {},
   "outputs": [],
   "source": []
  }
 ],
 "metadata": {
  "kernelspec": {
   "display_name": "nlp",
   "language": "python",
   "name": "nlp"
  },
  "language_info": {
   "codemirror_mode": {
    "name": "ipython",
    "version": 3
   },
   "file_extension": ".py",
   "mimetype": "text/x-python",
   "name": "python",
   "nbconvert_exporter": "python",
   "pygments_lexer": "ipython3",
   "version": "3.6.9"
  }
 },
 "nbformat": 4,
 "nbformat_minor": 4
}

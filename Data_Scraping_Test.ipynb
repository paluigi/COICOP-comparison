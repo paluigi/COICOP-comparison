{
  "nbformat": 4,
  "nbformat_minor": 0,
  "metadata": {
    "colab": {
      "name": "Data_Scraping_Test.ipynb",
      "provenance": [],
      "collapsed_sections": [],
      "toc_visible": true,
      "authorship_tag": "ABX9TyNATrxIfH5LAHKb/ceBhpF6",
      "include_colab_link": true
    },
    "kernelspec": {
      "name": "python3",
      "display_name": "Python 3"
    }
  },
  "cells": [
    {
      "cell_type": "markdown",
      "metadata": {
        "id": "view-in-github",
        "colab_type": "text"
      },
      "source": [
        "<a href=\"https://colab.research.google.com/github/paluigi/COICOP-comparison/blob/master/Data_Scraping_Test.ipynb\" target=\"_parent\"><img src=\"https://colab.research.google.com/assets/colab-badge.svg\" alt=\"Open In Colab\"/></a>"
      ]
    },
    {
      "cell_type": "markdown",
      "metadata": {
        "id": "OVIem703qtp-",
        "colab_type": "text"
      },
      "source": [
        "# Use Scrapy to get online groceries data"
      ]
    },
    {
      "cell_type": "markdown",
      "metadata": {
        "id": "sKZ6NVXYrokB",
        "colab_type": "text"
      },
      "source": [
        "Reference from [this webpage](https://www.jitsejan.com/using-scrapy-in-jupyter-notebook.html) for generic scraping using Jupyter notebooks.\n",
        "Reference from [this project](https://github.com/limi7break/esselunga-scrape/blob/master/esselunga.ipynb) for Esselunga-specific strategies."
      ]
    },
    {
      "cell_type": "markdown",
      "metadata": {
        "id": "puG1gtpScpKy",
        "colab_type": "text"
      },
      "source": [
        "List of Online shopping websites for scraping:\n",
        "\n",
        "\n",
        "1.   [Esselunga](https://www.esselungaacasa.it)\n",
        "2.   [Coop](https://www.easycoop.com/)\n",
        "3.   [Iperal](https://www.iperalspesaonline.it/)\n",
        "4.   [Ali](https://www.aliperme.it/)\n",
        "5.   [Spesasprint](https://www.spesasprint.it/)\n",
        "6.   [Tulips](https://www.tulipsmarket.com)\n",
        "7.   [Todis](https://todisacasa.it/)\n",
        "8.   [Cicalia](https://www.cicalia.com/it/)\n",
        "9.   [Spesati](https://www.spesati.it)\n",
        "10.  [Farina Market](https://farinamarket.gospesa.it/)\n",
        "\n",
        "\n"
      ]
    },
    {
      "cell_type": "markdown",
      "metadata": {
        "id": "jr6W159HeGbc",
        "colab_type": "text"
      },
      "source": [
        "Initial test is: [Farina Market](https://farinamarket.gospesa.it/) as it seems easier to scrap data. \n",
        "\n",
        "Other shops on Gospesa platform at [this link](https://gospesa.it/i-punti-vendita-gospesa/)"
      ]
    },
    {
      "cell_type": "markdown",
      "metadata": {
        "id": "V61GIXKDq8lB",
        "colab_type": "text"
      },
      "source": [
        "Setup the notebook"
      ]
    },
    {
      "cell_type": "code",
      "metadata": {
        "id": "v_81ZQ0VqoVY",
        "colab_type": "code",
        "colab": {
          "base_uri": "https://localhost:8080/",
          "height": 36
        },
        "outputId": "58384fbe-1697-4374-fd12-e3fecaec5c63"
      },
      "source": [
        "# Settings for notebook\n",
        "from IPython.core.interactiveshell import InteractiveShell\n",
        "InteractiveShell.ast_node_interactivity = \"all\"\n",
        "# Show Python version\n",
        "import platform\n",
        "platform.python_version()"
      ],
      "execution_count": 1,
      "outputs": [
        {
          "output_type": "execute_result",
          "data": {
            "application/vnd.google.colaboratory.intrinsic+json": {
              "type": "string"
            },
            "text/plain": [
              "'3.6.9'"
            ]
          },
          "metadata": {
            "tags": []
          },
          "execution_count": 1
        }
      ]
    },
    {
      "cell_type": "markdown",
      "metadata": {
        "id": "9yTX0rOZrKEj",
        "colab_type": "text"
      },
      "source": [
        "Import Scrapy and other libraries (install if library is not present)"
      ]
    },
    {
      "cell_type": "code",
      "metadata": {
        "id": "2VkNY4yUrFD3",
        "colab_type": "code",
        "colab": {}
      },
      "source": [
        "try:\n",
        "    import scrapy\n",
        "except:\n",
        "    !pip install scrapy\n",
        "    import scrapy\n",
        "from scrapy.crawler import CrawlerProcess"
      ],
      "execution_count": 2,
      "outputs": []
    },
    {
      "cell_type": "markdown",
      "metadata": {
        "id": "p01Q_ftNrfz3",
        "colab_type": "text"
      },
      "source": [
        "This class creates a simple pipeline that writes all found items to a JSON file, where each line contains one JSON element."
      ]
    },
    {
      "cell_type": "code",
      "metadata": {
        "id": "Wx66JjMWrUS5",
        "colab_type": "code",
        "colab": {}
      },
      "source": [
        "import json\n",
        "\n",
        "class JsonWriterPipeline(object):\n",
        "\n",
        "    def open_spider(self, spider):\n",
        "        self.file = open('quoteresult.jl', 'w')\n",
        "\n",
        "    def close_spider(self, spider):\n",
        "        self.file.close()\n",
        "\n",
        "    def process_item(self, item, spider):\n",
        "        line = json.dumps(dict(item)) + \"\\n\"\n",
        "        self.file.write(line)\n",
        "        return item"
      ],
      "execution_count": 89,
      "outputs": []
    },
    {
      "cell_type": "markdown",
      "metadata": {
        "id": "w32u6b1Fr2_p",
        "colab_type": "text"
      },
      "source": [
        "The PSpider class defines from which URLs to start crawling and which values to retrieve. I set the logging level of the crawler to warning, otherwise the notebook is overloaded with DEBUG messages about the retrieved data."
      ]
    },
    {
      "cell_type": "code",
      "metadata": {
        "id": "QkS3TBjTr2JF",
        "colab_type": "code",
        "colab": {}
      },
      "source": [
        "import logging\n",
        "import datetime\n",
        "\n",
        "\n",
        "class PSpider(scrapy.Spider):\n",
        "    name = \"prices\"\n",
        "    start_urls = ['https://farinamarket.gospesa.it/14917-pasta', \n",
        "                  'https://ipermercatomontenero.gospesa.it/14917-pasta', \n",
        "                  'https://ipermercatolaquilone.gospesa.it/14917-pasta', \n",
        "                  'https://carrefour.gospesa.it/pescara/14917-pasta']\n",
        "    \n",
        "    custom_settings = {\n",
        "          'LOG_LEVEL': logging.WARNING,\n",
        "          'ITEM_PIPELINES': {'__main__.JsonWriterPipeline': 1}, # Used for pipeline 1\n",
        "         # 'FEED_FORMAT':'json',                                 # Used for pipeline 2\n",
        "         # 'FEED_URI': 'quoteresult.json'                        # Used for pipeline 2\n",
        "      }\n",
        "\n",
        "    def parse(self, response):\n",
        "      yield{\n",
        "          'name': response.xpath('//*[contains(concat( \" \", @class, \" \" ), concat( \" \", \"tvproduct-title\", \" \" ))]//a//text()').extract(),\n",
        "          'price': response.xpath('//*[contains(concat( \" \", @class, \" \" ), concat( \" \", \"tvnew-price\", \" \" ))]//text()').re('[,0-9]+'), # Regular expression removes Euro sign and spaces\n",
        "          'url': response.url,\n",
        "          'day': str(datetime.datetime.now()),\n",
        "      }\n",
        "        \n"
      ],
      "execution_count": 90,
      "outputs": []
    },
    {
      "cell_type": "markdown",
      "metadata": {
        "id": "JcRcIwrBsUOm",
        "colab_type": "text"
      },
      "source": [
        "Define a function to start the spider multiple times"
      ]
    },
    {
      "cell_type": "code",
      "metadata": {
        "id": "Ox0xCe-rcnw_",
        "colab_type": "code",
        "colab": {}
      },
      "source": [
        "from multiprocessing import Process, Queue\n",
        "from twisted.internet import reactor\n",
        "import scrapy.crawler as crawler\n",
        "\n",
        "def run_spider(spider):\n",
        "    def f(q):\n",
        "        try:\n",
        "            runner = crawler.CrawlerRunner()\n",
        "            deferred = runner.crawl(spider)\n",
        "            deferred.addBoth(lambda _: reactor.stop())\n",
        "            reactor.run()\n",
        "            q.put(None)\n",
        "        except Exception as e:\n",
        "            q.put(e)\n",
        "\n",
        "    q = Queue()\n",
        "    p = Process(target=f, args=(q,))\n",
        "    p.start()\n",
        "    result = q.get()\n",
        "    p.join()\n",
        "\n",
        "    if result is not None:\n",
        "        raise result"
      ],
      "execution_count": 91,
      "outputs": []
    },
    {
      "cell_type": "markdown",
      "metadata": {
        "id": "E0lZA0Ccc7_3",
        "colab_type": "text"
      },
      "source": [
        "Start the spider"
      ]
    },
    {
      "cell_type": "code",
      "metadata": {
        "id": "eivDXmjtsT9M",
        "colab_type": "code",
        "colab": {}
      },
      "source": [
        "run_spider(PSpider)"
      ],
      "execution_count": 92,
      "outputs": []
    },
    {
      "cell_type": "code",
      "metadata": {
        "id": "SmbM-0SrtP9n",
        "colab_type": "code",
        "colab": {
          "base_uri": "https://localhost:8080/",
          "height": 34
        },
        "outputId": "a2ea5a1e-1cc2-4df3-a297-23d1ec15ad17"
      },
      "source": [
        "ll quoteresult.*\n"
      ],
      "execution_count": 93,
      "outputs": [
        {
          "output_type": "stream",
          "text": [
            "-rw-r--r-- 1 root 4674 Jul 24 11:33 quoteresult.jl\n"
          ],
          "name": "stdout"
        }
      ]
    },
    {
      "cell_type": "code",
      "metadata": {
        "id": "UB29BHU9tQtI",
        "colab_type": "code",
        "colab": {
          "base_uri": "https://localhost:8080/",
          "height": 89
        },
        "outputId": "0c5ea922-f676-4180-e922-991a03bda6f0"
      },
      "source": [
        "!tail -n 3 quoteresult.jl"
      ],
      "execution_count": 94,
      "outputs": [
        {
          "output_type": "stream",
          "text": [
            "{\"name\": [\"alce nero Conchiglie Grano Duro 500 g\", \"alce nero Farfalle Grano Duro 500 g\", \"alce nero Farro Penne Rigate 500 g\", \"alce nero Farro Tagliatelle 250 g\", \"alce nero Fusilli Farro 500 g\", \"alce nero Fusilli Grano Duro 500 g\", \"alce nero Fusilli Integrali Farro 500 g\", \"alce nero Penne Rigate Grano Duro 500 g\", \"alce nero Penne Rigate Integrali Farro 500 g\", \"alce nero Penne Rigate Integrali Khorasan 500 g\", \"alce nero Penne Rigate Khorasan 500 g\", \"alce nero Semolino Senatore Cappelli Biologico 250 g\", \"alce nero Spaghetti Farro 500 g\", \"alce nero Spaghetti Grano Duro 500 g\", \"alce nero Spaghetti Integrali Farro 500 g\", \"alce nero Spaghetti Integrali Khorasan 500 g\", \"alce nero Spaghetti Khorasan 500 g\", \"alce nero Stelline di Farro Biologiche 500 g\", \"alce nero Tagliatelle Grano Duro 250 g\", \"alce nero Tubetti Farro 500 g\", \"alce nero Variet\\u00e0 di Grano Senatore Cappelli Fusilloni 500 g\", \"alce nero Variet\\u00e0 di Grano Senatore Cappelli Penne Rigate 500 g\", \"alce nero Variet\\u00e0 di Grano Senatore Cappelli Rigatoni 500 g\", \"alce nero Variet\\u00e0 di Grano Senatore Cappelli Spaghettoni 500 g\"], \"price\": [\"1,74\", \"1,74\", \"3,49\", \"2,13\", \"3,49\", \"1,74\", \"2,95\", \"1,74\", \"2,79\", \"4,79\", \"4,79\", \"4,49\", \"3,49\", \"1,74\", \"2,79\", \"4,79\", \"4,79\", \"3,04\", \"1,28\", \"3,49\", \"2,39\", \"2,39\", \"2,39\", \"2,39\"], \"url\": \"https://ipermercatomontenero.gospesa.it/14917-pasta\", \"day\": \"2020-07-24 11:33:50.418692\"}\n",
            "{\"name\": [\"alce nero Farro Penne Rigate 500 g\", \"alce nero Farro Tagliatelle 250 g\", \"alce nero Fusilli Farro 500 g\", \"alce nero Penne Rigate Integrali di Grano Duro e Lenticchie 500 g\", \"alce nero Penne Rigate Integrali Farro 500 g\", \"alce nero Penne Rigate Integrali Khorasan 500 g\", \"alce nero Penne Rigate Khorasan 500 g\", \"alce nero Semolino Senatore Cappelli Biologico 250 g\", \"alce nero Spaghetti Farro 500 g\", \"alce nero Spaghetti Integrali Farro 500 g\", \"alce nero Spaghetti Integrali Khorasan 500 g\", \"alce nero Spaghetti Khorasan 500 g\", \"alce nero Stelline di Farro Biologiche 500 g\", \"alce nero Tubetti Farro 500 g\", \"alce nero Variet\\u00e0 di Grano Senatore Cappelli Fusilloni 500 g\", \"alce nero Variet\\u00e0 di Grano Senatore Cappelli Penne Rigate 500 g\", \"alce nero Variet\\u00e0 di Grano Senatore Cappelli Rigatoni 500 g\", \"alce nero Variet\\u00e0 di Grano Senatore Cappelli Spaghettoni 500 g\", \"Barilla 5 Cereali Fusilli 400 g\", \"Barilla 5 Cereali Pennette Rigate 400 g\", \"Barilla 5 Cereali Spaghetti 400 g\", \"Barilla Bavettine n.11 500 g\", \"Barilla Bucatini n.9 500 g\", \"Barilla Capellini n.1 500 g\"], \"price\": [\"3,66\", \"2,26\", \"3,66\", \"4,06\", \"3,34\", \"5,08\", \"5,08\", \"4,76\", \"3,66\", \"3,34\", \"5,08\", \"5,08\", \"3,22\", \"3,66\", \"2,43\", \"2,43\", \"2,43\", \"2,43\", \"1,35\", \"1,35\", \"1,35\", \"0,80\", \"0,80\", \"0,80\"], \"url\": \"https://ipermercatolaquilone.gospesa.it/14917-pasta\", \"day\": \"2020-07-24 11:33:50.464226\"}\n",
            "{\"name\": [\"alce nero Farro Penne Rigate 500 g\", \"alce nero Farro Tagliatelle 250 g\", \"alce nero Fusilli Farro 500 g\", \"alce nero Fusilli Integrali Farro 500 g\", \"alce nero Penne Rigate Integrali Farro 500 g\", \"alce nero Penne Rigate Khorasan 500 g\", \"alce nero Semolino Senatore Cappelli Biologico 250 g\", \"alce nero Spaghetti Farro 500 g\", \"alce nero Spaghetti Integrali Farro 500 g\", \"alce nero Spaghetti Khorasan 500 g\", \"alce nero Stelline di Farro Biologiche 500 g\", \"alce nero Tubetti Farro 500 g\", \"alce nero Variet\\u00e0 di Grano Senatore Cappelli Fusilloni 500 g\", \"alce nero Variet\\u00e0 di Grano Senatore Cappelli Penne Rigate 500 g\", \"alce nero Variet\\u00e0 di Grano Senatore Cappelli Rigatoni 500 g\", \"alce nero Variet\\u00e0 di Grano Senatore Cappelli Spaghettoni 500 g\"], \"price\": [\"3,49\", \"2,13\", \"3,49\", \"2,79\", \"2,79\", \"4,79\", \"4,58\", \"3,49\", \"2,79\", \"4,79\", \"3,04\", \"3,49\", \"2,39\", \"2,39\", \"2,39\", \"2,39\"], \"url\": \"https://farinamarket.gospesa.it/14917-pasta\", \"day\": \"2020-07-24 11:33:50.974360\"}\n"
          ],
          "name": "stdout"
        }
      ]
    },
    {
      "cell_type": "code",
      "metadata": {
        "id": "XBVdTkmItW1R",
        "colab_type": "code",
        "colab": {
          "base_uri": "https://localhost:8080/",
          "height": 175
        },
        "outputId": "08093f29-c297-4cfd-9b89-5e5631917f8c"
      },
      "source": [
        "import pandas as pd\n",
        "dfjl = pd.read_json('quoteresult.jl', lines=True)\n",
        "dfjl"
      ],
      "execution_count": 73,
      "outputs": [
        {
          "output_type": "execute_result",
          "data": {
            "text/html": [
              "<div>\n",
              "<style scoped>\n",
              "    .dataframe tbody tr th:only-of-type {\n",
              "        vertical-align: middle;\n",
              "    }\n",
              "\n",
              "    .dataframe tbody tr th {\n",
              "        vertical-align: top;\n",
              "    }\n",
              "\n",
              "    .dataframe thead th {\n",
              "        text-align: right;\n",
              "    }\n",
              "</style>\n",
              "<table border=\"1\" class=\"dataframe\">\n",
              "  <thead>\n",
              "    <tr style=\"text-align: right;\">\n",
              "      <th></th>\n",
              "      <th>name</th>\n",
              "      <th>price</th>\n",
              "      <th>url</th>\n",
              "      <th>day</th>\n",
              "    </tr>\n",
              "  </thead>\n",
              "  <tbody>\n",
              "    <tr>\n",
              "      <th>0</th>\n",
              "      <td>[alce nero Farro Penne Rigate 500 g, alce nero...</td>\n",
              "      <td>[3,66, 2,26, 3,66, 4,06, 3,34, 5,08, 5,08, 4,7...</td>\n",
              "      <td>https://ipermercatolaquilone.gospesa.it/14917-...</td>\n",
              "      <td>2020-07-24 11:25:19.221987</td>\n",
              "    </tr>\n",
              "    <tr>\n",
              "      <th>1</th>\n",
              "      <td>[alce nero Conchiglie Grano Duro 500 g, alce n...</td>\n",
              "      <td>[1,74, 1,74, 3,49, 2,13, 3,49, 1,74, 2,95, 1,7...</td>\n",
              "      <td>https://ipermercatomontenero.gospesa.it/14917-...</td>\n",
              "      <td>2020-07-24 11:25:19.359440</td>\n",
              "    </tr>\n",
              "    <tr>\n",
              "      <th>2</th>\n",
              "      <td>[Penne Rigate Carrefour 500gr, Spaghetti Carre...</td>\n",
              "      <td>[0,55, 0,55, 0,55, 0,55, 0,55, 0,55, 0,55, 0,5...</td>\n",
              "      <td>https://carrefour.gospesa.it/pescara/14917-pasta</td>\n",
              "      <td>2020-07-24 11:25:19.435238</td>\n",
              "    </tr>\n",
              "    <tr>\n",
              "      <th>3</th>\n",
              "      <td>[alce nero Farro Penne Rigate 500 g, alce nero...</td>\n",
              "      <td>[3,49, 2,13, 3,49, 2,79, 2,79, 4,79, 4,58, 3,4...</td>\n",
              "      <td>https://farinamarket.gospesa.it/14917-pasta</td>\n",
              "      <td>2020-07-24 11:25:20.000929</td>\n",
              "    </tr>\n",
              "  </tbody>\n",
              "</table>\n",
              "</div>"
            ],
            "text/plain": [
              "                                                name  ...                         day\n",
              "0  [alce nero Farro Penne Rigate 500 g, alce nero...  ...  2020-07-24 11:25:19.221987\n",
              "1  [alce nero Conchiglie Grano Duro 500 g, alce n...  ...  2020-07-24 11:25:19.359440\n",
              "2  [Penne Rigate Carrefour 500gr, Spaghetti Carre...  ...  2020-07-24 11:25:19.435238\n",
              "3  [alce nero Farro Penne Rigate 500 g, alce nero...  ...  2020-07-24 11:25:20.000929\n",
              "\n",
              "[4 rows x 4 columns]"
            ]
          },
          "metadata": {
            "tags": []
          },
          "execution_count": 73
        }
      ]
    },
    {
      "cell_type": "markdown",
      "metadata": {
        "id": "9PuGMnK6xPLc",
        "colab_type": "text"
      },
      "source": [
        "Format the data into a dataframe, one line per each product"
      ]
    },
    {
      "cell_type": "code",
      "metadata": {
        "id": "A3_Ihxkelbec",
        "colab_type": "code",
        "colab": {
          "base_uri": "https://localhost:8080/",
          "height": 424
        },
        "outputId": "25e85a96-d177-4a60-948a-1c3733150119"
      },
      "source": [
        "price_list = []\n",
        "for shop in dfjl.index:\n",
        "  for i, product in enumerate(dfjl.at[shop, \"name\"]):\n",
        "    price_list.append([product, dfjl.at[shop, \"price\"][i], dfjl.at[shop, \"url\"], dfjl.at[shop, \"day\"] ])\n",
        "\n",
        "prices = pd.DataFrame(price_list, columns =[\"product\",\"price\", \"url\", \"date\" ])\n",
        "prices"
      ],
      "execution_count": 109,
      "outputs": [
        {
          "output_type": "execute_result",
          "data": {
            "text/html": [
              "<div>\n",
              "<style scoped>\n",
              "    .dataframe tbody tr th:only-of-type {\n",
              "        vertical-align: middle;\n",
              "    }\n",
              "\n",
              "    .dataframe tbody tr th {\n",
              "        vertical-align: top;\n",
              "    }\n",
              "\n",
              "    .dataframe thead th {\n",
              "        text-align: right;\n",
              "    }\n",
              "</style>\n",
              "<table border=\"1\" class=\"dataframe\">\n",
              "  <thead>\n",
              "    <tr style=\"text-align: right;\">\n",
              "      <th></th>\n",
              "      <th>product</th>\n",
              "      <th>price</th>\n",
              "      <th>url</th>\n",
              "      <th>date</th>\n",
              "    </tr>\n",
              "  </thead>\n",
              "  <tbody>\n",
              "    <tr>\n",
              "      <th>0</th>\n",
              "      <td>alce nero Farro Penne Rigate 500 g</td>\n",
              "      <td>3,66</td>\n",
              "      <td>https://ipermercatolaquilone.gospesa.it/14917-...</td>\n",
              "      <td>2020-07-24 11:25:19.221987</td>\n",
              "    </tr>\n",
              "    <tr>\n",
              "      <th>1</th>\n",
              "      <td>alce nero Farro Tagliatelle 250 g</td>\n",
              "      <td>2,26</td>\n",
              "      <td>https://ipermercatolaquilone.gospesa.it/14917-...</td>\n",
              "      <td>2020-07-24 11:25:19.221987</td>\n",
              "    </tr>\n",
              "    <tr>\n",
              "      <th>2</th>\n",
              "      <td>alce nero Fusilli Farro 500 g</td>\n",
              "      <td>3,66</td>\n",
              "      <td>https://ipermercatolaquilone.gospesa.it/14917-...</td>\n",
              "      <td>2020-07-24 11:25:19.221987</td>\n",
              "    </tr>\n",
              "    <tr>\n",
              "      <th>3</th>\n",
              "      <td>alce nero Penne Rigate Integrali di Grano Duro...</td>\n",
              "      <td>4,06</td>\n",
              "      <td>https://ipermercatolaquilone.gospesa.it/14917-...</td>\n",
              "      <td>2020-07-24 11:25:19.221987</td>\n",
              "    </tr>\n",
              "    <tr>\n",
              "      <th>4</th>\n",
              "      <td>alce nero Penne Rigate Integrali Farro 500 g</td>\n",
              "      <td>3,34</td>\n",
              "      <td>https://ipermercatolaquilone.gospesa.it/14917-...</td>\n",
              "      <td>2020-07-24 11:25:19.221987</td>\n",
              "    </tr>\n",
              "    <tr>\n",
              "      <th>...</th>\n",
              "      <td>...</td>\n",
              "      <td>...</td>\n",
              "      <td>...</td>\n",
              "      <td>...</td>\n",
              "    </tr>\n",
              "    <tr>\n",
              "      <th>75</th>\n",
              "      <td>alce nero Tubetti Farro 500 g</td>\n",
              "      <td>3,49</td>\n",
              "      <td>https://farinamarket.gospesa.it/14917-pasta</td>\n",
              "      <td>2020-07-24 11:25:20.000929</td>\n",
              "    </tr>\n",
              "    <tr>\n",
              "      <th>76</th>\n",
              "      <td>alce nero Varietà di Grano Senatore Cappelli F...</td>\n",
              "      <td>2,39</td>\n",
              "      <td>https://farinamarket.gospesa.it/14917-pasta</td>\n",
              "      <td>2020-07-24 11:25:20.000929</td>\n",
              "    </tr>\n",
              "    <tr>\n",
              "      <th>77</th>\n",
              "      <td>alce nero Varietà di Grano Senatore Cappelli P...</td>\n",
              "      <td>2,39</td>\n",
              "      <td>https://farinamarket.gospesa.it/14917-pasta</td>\n",
              "      <td>2020-07-24 11:25:20.000929</td>\n",
              "    </tr>\n",
              "    <tr>\n",
              "      <th>78</th>\n",
              "      <td>alce nero Varietà di Grano Senatore Cappelli R...</td>\n",
              "      <td>2,39</td>\n",
              "      <td>https://farinamarket.gospesa.it/14917-pasta</td>\n",
              "      <td>2020-07-24 11:25:20.000929</td>\n",
              "    </tr>\n",
              "    <tr>\n",
              "      <th>79</th>\n",
              "      <td>alce nero Varietà di Grano Senatore Cappelli S...</td>\n",
              "      <td>2,39</td>\n",
              "      <td>https://farinamarket.gospesa.it/14917-pasta</td>\n",
              "      <td>2020-07-24 11:25:20.000929</td>\n",
              "    </tr>\n",
              "  </tbody>\n",
              "</table>\n",
              "<p>80 rows × 4 columns</p>\n",
              "</div>"
            ],
            "text/plain": [
              "                                              product  ...                        date\n",
              "0                  alce nero Farro Penne Rigate 500 g  ...  2020-07-24 11:25:19.221987\n",
              "1                   alce nero Farro Tagliatelle 250 g  ...  2020-07-24 11:25:19.221987\n",
              "2                       alce nero Fusilli Farro 500 g  ...  2020-07-24 11:25:19.221987\n",
              "3   alce nero Penne Rigate Integrali di Grano Duro...  ...  2020-07-24 11:25:19.221987\n",
              "4        alce nero Penne Rigate Integrali Farro 500 g  ...  2020-07-24 11:25:19.221987\n",
              "..                                                ...  ...                         ...\n",
              "75                      alce nero Tubetti Farro 500 g  ...  2020-07-24 11:25:20.000929\n",
              "76  alce nero Varietà di Grano Senatore Cappelli F...  ...  2020-07-24 11:25:20.000929\n",
              "77  alce nero Varietà di Grano Senatore Cappelli P...  ...  2020-07-24 11:25:20.000929\n",
              "78  alce nero Varietà di Grano Senatore Cappelli R...  ...  2020-07-24 11:25:20.000929\n",
              "79  alce nero Varietà di Grano Senatore Cappelli S...  ...  2020-07-24 11:25:20.000929\n",
              "\n",
              "[80 rows x 4 columns]"
            ]
          },
          "metadata": {
            "tags": []
          },
          "execution_count": 109
        }
      ]
    },
    {
      "cell_type": "code",
      "metadata": {
        "id": "Dz94p2b3tK0a",
        "colab_type": "code",
        "colab": {}
      },
      "source": [
        ""
      ],
      "execution_count": null,
      "outputs": []
    }
  ]
}